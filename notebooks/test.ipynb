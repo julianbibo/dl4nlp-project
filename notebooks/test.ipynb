{
 "cells": [
  {
   "cell_type": "code",
   "execution_count": 1,
   "id": "f8317c5c",
   "metadata": {},
   "outputs": [
    {
     "name": "stderr",
     "output_type": "stream",
     "text": [
      "Device set to use mps:0\n"
     ]
    },
    {
     "data": {
      "text/plain": [
       "[{'translation_text': \"Le chef de l'ONU dit qu'il n'y a pas de solution militaire en Syrie\"}]"
      ]
     },
     "execution_count": 1,
     "metadata": {},
     "output_type": "execute_result"
    }
   ],
   "source": [
    "import torch\n",
    "from transformers import pipeline\n",
    "\n",
    "pipeline = pipeline(task=\"translation\", model=\"facebook/nllb-200-distilled-600M\", src_lang=\"eng_Latn\", tgt_lang=\"fra_Latn\", dtype=torch.float16, device=0)\n",
    "pipeline(\"UN Chief says there is no military solution in Syria\")"
   ]
  },
  {
   "cell_type": "code",
   "execution_count": 4,
   "id": "e1a16b6b",
   "metadata": {},
   "outputs": [
    {
     "name": "stderr",
     "output_type": "stream",
     "text": [
      "huggingface/tokenizers: The current process just got forked, after parallelism has already been used. Disabling parallelism to avoid deadlocks...\n",
      "To disable this warning, you can either:\n",
      "\t- Avoid using `tokenizers` before the fork if possible\n",
      "\t- Explicitly set the environment variable TOKENIZERS_PARALLELISM=(true | false)\n"
     ]
    },
    {
     "data": {
      "application/vnd.jupyter.widget-view+json": {
       "model_id": "db573819839345e485dc9ee92b587300",
       "version_major": 2,
       "version_minor": 0
      },
      "text/plain": [
       "Resolving data files:   0%|          | 0/220 [00:00<?, ?it/s]"
      ]
     },
     "metadata": {},
     "output_type": "display_data"
    },
    {
     "data": {
      "application/vnd.jupyter.widget-view+json": {
       "model_id": "543822ed37fa4e43989256060a31a355",
       "version_major": 2,
       "version_minor": 0
      },
      "text/plain": [
       "Resolving data files:   0%|          | 0/214 [00:00<?, ?it/s]"
      ]
     },
     "metadata": {},
     "output_type": "display_data"
    },
    {
     "data": {
      "application/vnd.jupyter.widget-view+json": {
       "model_id": "973bd6e6f5254eaf90cab2ba86d7a914",
       "version_major": 2,
       "version_minor": 0
      },
      "text/plain": [
       "Resolving data files:   0%|          | 0/220 [00:00<?, ?it/s]"
      ]
     },
     "metadata": {},
     "output_type": "display_data"
    },
    {
     "data": {
      "application/vnd.jupyter.widget-view+json": {
       "model_id": "361ec86f78644db1969c9cda1fd02270",
       "version_major": 2,
       "version_minor": 0
      },
      "text/plain": [
       "Resolving data files:   0%|          | 0/214 [00:00<?, ?it/s]"
      ]
     },
     "metadata": {},
     "output_type": "display_data"
    },
    {
     "data": {
      "application/vnd.jupyter.widget-view+json": {
       "model_id": "8910d3c62ec64fd984ed7ac5fefb16f4",
       "version_major": 2,
       "version_minor": 0
      },
      "text/plain": [
       "Downloading data:   0%|          | 0/220 [00:00<?, ?files/s]"
      ]
     },
     "metadata": {},
     "output_type": "display_data"
    },
    {
     "data": {
      "application/vnd.jupyter.widget-view+json": {
       "model_id": "5247ba403dfe455a9b15b678825d09ab",
       "version_major": 2,
       "version_minor": 0
      },
      "text/plain": [
       "dev/apc_Arab_sout3123.parquet:   0%|          | 0.00/129k [00:00<?, ?B/s]"
      ]
     },
     "metadata": {},
     "output_type": "display_data"
    },
    {
     "data": {
      "application/vnd.jupyter.widget-view+json": {
       "model_id": "87b37312b463464780f2285faf7e9963",
       "version_major": 2,
       "version_minor": 0
      },
      "text/plain": [
       "dev/arb_Latn.parquet:   0%|          | 0.00/130k [00:00<?, ?B/s]"
      ]
     },
     "metadata": {},
     "output_type": "display_data"
    },
    {
     "data": {
      "application/vnd.jupyter.widget-view+json": {
       "model_id": "0372fb8831264ccaac5470734133018a",
       "version_major": 2,
       "version_minor": 0
      },
      "text/plain": [
       "dev/als_Latn.parquet:   0%|          | 0.00/126k [00:00<?, ?B/s]"
      ]
     },
     "metadata": {},
     "output_type": "display_data"
    },
    {
     "data": {
      "application/vnd.jupyter.widget-view+json": {
       "model_id": "b50308a54d094e41bd81a1405312d663",
       "version_major": 2,
       "version_minor": 0
      },
      "text/plain": [
       "dev/arz_Arab.parquet:   0%|          | 0.00/133k [00:00<?, ?B/s]"
      ]
     },
     "metadata": {},
     "output_type": "display_data"
    },
    {
     "data": {
      "application/vnd.jupyter.widget-view+json": {
       "model_id": "bf6b3ea49b1547f383ebb6e67e5b1877",
       "version_major": 2,
       "version_minor": 0
      },
      "text/plain": [
       "dev/ace_Latn.parquet:   0%|          | 0.00/114k [00:00<?, ?B/s]"
      ]
     },
     "metadata": {},
     "output_type": "display_data"
    },
    {
     "data": {
      "application/vnd.jupyter.widget-view+json": {
       "model_id": "886b3eaea98e4d34befd77b26e51a8ff",
       "version_major": 2,
       "version_minor": 0
      },
      "text/plain": [
       "dev/ace_Arab.parquet:   0%|          | 0.00/125k [00:00<?, ?B/s]"
      ]
     },
     "metadata": {},
     "output_type": "display_data"
    },
    {
     "data": {
      "application/vnd.jupyter.widget-view+json": {
       "model_id": "369e15cd70d448ee8bb92cff9464f5ca",
       "version_major": 2,
       "version_minor": 0
      },
      "text/plain": [
       "dev/acq_Arab.parquet:   0%|          | 0.00/136k [00:00<?, ?B/s]"
      ]
     },
     "metadata": {},
     "output_type": "display_data"
    },
    {
     "data": {
      "application/vnd.jupyter.widget-view+json": {
       "model_id": "b7731aae6fd944dbb6bb47f61ce3a3f8",
       "version_major": 2,
       "version_minor": 0
      },
      "text/plain": [
       "dev/ars_Arab.parquet:   0%|          | 0.00/138k [00:00<?, ?B/s]"
      ]
     },
     "metadata": {},
     "output_type": "display_data"
    },
    {
     "data": {
      "application/vnd.jupyter.widget-view+json": {
       "model_id": "350c8b36cd7a454d81713839d93ca274",
       "version_major": 2,
       "version_minor": 0
      },
      "text/plain": [
       "dev/ary_Arab.parquet:   0%|          | 0.00/135k [00:00<?, ?B/s]"
      ]
     },
     "metadata": {},
     "output_type": "display_data"
    },
    {
     "data": {
      "application/vnd.jupyter.widget-view+json": {
       "model_id": "71ab14f4f15d4cd391fcf88a39390273",
       "version_major": 2,
       "version_minor": 0
      },
      "text/plain": [
       "dev/apc_Arab_nort3139.parquet:   0%|          | 0.00/129k [00:00<?, ?B/s]"
      ]
     },
     "metadata": {},
     "output_type": "display_data"
    },
    {
     "data": {
      "application/vnd.jupyter.widget-view+json": {
       "model_id": "c98a7720c2304120ad74eac861f8a046",
       "version_major": 2,
       "version_minor": 0
      },
      "text/plain": [
       "dev/aeb_Arab.parquet:   0%|          | 0.00/134k [00:00<?, ?B/s]"
      ]
     },
     "metadata": {},
     "output_type": "display_data"
    },
    {
     "data": {
      "application/vnd.jupyter.widget-view+json": {
       "model_id": "f92d8d64a6354c4cbbdae8753b829ce0",
       "version_major": 2,
       "version_minor": 0
      },
      "text/plain": [
       "dev/amh_Ethi.parquet:   0%|          | 0.00/147k [00:00<?, ?B/s]"
      ]
     },
     "metadata": {},
     "output_type": "display_data"
    },
    {
     "data": {
      "application/vnd.jupyter.widget-view+json": {
       "model_id": "89d9c3074d704c278de90df50a92e953",
       "version_major": 2,
       "version_minor": 0
      },
      "text/plain": [
       "dev/arb_Arab.parquet:   0%|          | 0.00/137k [00:00<?, ?B/s]"
      ]
     },
     "metadata": {},
     "output_type": "display_data"
    },
    {
     "data": {
      "application/vnd.jupyter.widget-view+json": {
       "model_id": "6a813839085d43169eeb81177fe3f4a6",
       "version_major": 2,
       "version_minor": 0
      },
      "text/plain": [
       "dev/arg_Latn.parquet:   0%|          | 0.00/128k [00:00<?, ?B/s]"
      ]
     },
     "metadata": {},
     "output_type": "display_data"
    },
    {
     "data": {
      "application/vnd.jupyter.widget-view+json": {
       "model_id": "3ce65440d6374387b12ddc2f9b33a81c",
       "version_major": 2,
       "version_minor": 0
      },
      "text/plain": [
       "dev/afr_Latn.parquet:   0%|          | 0.00/117k [00:00<?, ?B/s]"
      ]
     },
     "metadata": {},
     "output_type": "display_data"
    },
    {
     "data": {
      "application/vnd.jupyter.widget-view+json": {
       "model_id": "24c7ac181470451b9b1569a2b89ad5a8",
       "version_major": 2,
       "version_minor": 0
      },
      "text/plain": [
       "dev/acm_Arab.parquet:   0%|          | 0.00/134k [00:00<?, ?B/s]"
      ]
     },
     "metadata": {},
     "output_type": "display_data"
    },
    {
     "data": {
      "application/vnd.jupyter.widget-view+json": {
       "model_id": "70aa899e9aca437da3ecee5548cfaeef",
       "version_major": 2,
       "version_minor": 0
      },
      "text/plain": [
       "dev/ast_Latn.parquet:   0%|          | 0.00/119k [00:00<?, ?B/s]"
      ]
     },
     "metadata": {},
     "output_type": "display_data"
    },
    {
     "data": {
      "application/vnd.jupyter.widget-view+json": {
       "model_id": "95f6fa2bcdf64533b4bb05b9a5cbfb53",
       "version_major": 2,
       "version_minor": 0
      },
      "text/plain": [
       "dev/asm_Beng.parquet:   0%|          | 0.00/168k [00:00<?, ?B/s]"
      ]
     },
     "metadata": {},
     "output_type": "display_data"
    },
    {
     "data": {
      "application/vnd.jupyter.widget-view+json": {
       "model_id": "550aed20c0c940968f362bf61554fc30",
       "version_major": 2,
       "version_minor": 0
      },
      "text/plain": [
       "dev/awa_Deva.parquet:   0%|          | 0.00/158k [00:00<?, ?B/s]"
      ]
     },
     "metadata": {},
     "output_type": "display_data"
    },
    {
     "data": {
      "application/vnd.jupyter.widget-view+json": {
       "model_id": "f16620ba03af46abbe364f084963a853",
       "version_major": 2,
       "version_minor": 0
      },
      "text/plain": [
       "dev/bak_Cyrl.parquet:   0%|          | 0.00/149k [00:00<?, ?B/s]"
      ]
     },
     "metadata": {},
     "output_type": "display_data"
    },
    {
     "data": {
      "application/vnd.jupyter.widget-view+json": {
       "model_id": "b58d33ae4ac54f34a216b0a6f1b3e452",
       "version_major": 2,
       "version_minor": 0
      },
      "text/plain": [
       "dev/azb_Arab.parquet:   0%|          | 0.00/134k [00:00<?, ?B/s]"
      ]
     },
     "metadata": {},
     "output_type": "display_data"
    },
    {
     "data": {
      "application/vnd.jupyter.widget-view+json": {
       "model_id": "a3ec95afb5cc4325986d03cf21bfaf6e",
       "version_major": 2,
       "version_minor": 0
      },
      "text/plain": [
       "dev/azj_Latn.parquet:   0%|          | 0.00/128k [00:00<?, ?B/s]"
      ]
     },
     "metadata": {},
     "output_type": "display_data"
    },
    {
     "data": {
      "application/vnd.jupyter.widget-view+json": {
       "model_id": "135dd6e62be04dd99ac9b8dc8f212a5d",
       "version_major": 2,
       "version_minor": 0
      },
      "text/plain": [
       "dev/ayr_Latn.parquet:   0%|          | 0.00/116k [00:00<?, ?B/s]"
      ]
     },
     "metadata": {},
     "output_type": "display_data"
    },
    {
     "data": {
      "application/vnd.jupyter.widget-view+json": {
       "model_id": "fa57586bd48848c0859afd4a03334e41",
       "version_major": 2,
       "version_minor": 0
      },
      "text/plain": [
       "dev/ban_Latn.parquet:   0%|          | 0.00/114k [00:00<?, ?B/s]"
      ]
     },
     "metadata": {},
     "output_type": "display_data"
    },
    {
     "data": {
      "application/vnd.jupyter.widget-view+json": {
       "model_id": "7874973ff7c34b7ba6ef45892e7c7a2f",
       "version_major": 2,
       "version_minor": 0
      },
      "text/plain": [
       "dev/bam_Latn.parquet:   0%|          | 0.00/111k [00:00<?, ?B/s]"
      ]
     },
     "metadata": {},
     "output_type": "display_data"
    },
    {
     "data": {
      "application/vnd.jupyter.widget-view+json": {
       "model_id": "8ba1b92baa104316aaa2adb184757a04",
       "version_major": 2,
       "version_minor": 0
      },
      "text/plain": [
       "dev/bel_Cyrl.parquet:   0%|          | 0.00/169k [00:00<?, ?B/s]"
      ]
     },
     "metadata": {},
     "output_type": "display_data"
    },
    {
     "data": {
      "application/vnd.jupyter.widget-view+json": {
       "model_id": "4ca2d0edd4c34890ab379655feb802c9",
       "version_major": 2,
       "version_minor": 0
      },
      "text/plain": [
       "dev/ben_Beng.parquet:   0%|          | 0.00/166k [00:00<?, ?B/s]"
      ]
     },
     "metadata": {},
     "output_type": "display_data"
    },
    {
     "data": {
      "application/vnd.jupyter.widget-view+json": {
       "model_id": "8d0d7e012d274a21aa876060cbf46776",
       "version_major": 2,
       "version_minor": 0
      },
      "text/plain": [
       "dev/bem_Latn.parquet:   0%|          | 0.00/126k [00:00<?, ?B/s]"
      ]
     },
     "metadata": {},
     "output_type": "display_data"
    },
    {
     "data": {
      "application/vnd.jupyter.widget-view+json": {
       "model_id": "59fcb6a668574c6baf8f16a40b0d26e8",
       "version_major": 2,
       "version_minor": 0
      },
      "text/plain": [
       "dev/bjn_Arab.parquet:   0%|          | 0.00/136k [00:00<?, ?B/s]"
      ]
     },
     "metadata": {},
     "output_type": "display_data"
    },
    {
     "data": {
      "application/vnd.jupyter.widget-view+json": {
       "model_id": "ba5d6fb20b274ce583246fcb7c21e8f3",
       "version_major": 2,
       "version_minor": 0
      },
      "text/plain": [
       "dev/bho_Deva.parquet:   0%|          | 0.00/155k [00:00<?, ?B/s]"
      ]
     },
     "metadata": {},
     "output_type": "display_data"
    },
    {
     "data": {
      "application/vnd.jupyter.widget-view+json": {
       "model_id": "3dfed64598d14556a6629afcaf67c251",
       "version_major": 2,
       "version_minor": 0
      },
      "text/plain": [
       "dev/bjn_Latn.parquet:   0%|          | 0.00/112k [00:00<?, ?B/s]"
      ]
     },
     "metadata": {},
     "output_type": "display_data"
    },
    {
     "data": {
      "application/vnd.jupyter.widget-view+json": {
       "model_id": "515f3dbf54794c3d8537b3ab49ef8fb5",
       "version_major": 2,
       "version_minor": 0
      },
      "text/plain": [
       "dev/bod_Tibt.parquet:   0%|          | 0.00/165k [00:00<?, ?B/s]"
      ]
     },
     "metadata": {},
     "output_type": "display_data"
    },
    {
     "data": {
      "application/vnd.jupyter.widget-view+json": {
       "model_id": "a5bcc87bed8e4c0a9cf5f03c1e98e180",
       "version_major": 2,
       "version_minor": 0
      },
      "text/plain": [
       "dev/brx_Deva.parquet:   0%|          | 0.00/164k [00:00<?, ?B/s]"
      ]
     },
     "metadata": {},
     "output_type": "display_data"
    },
    {
     "data": {
      "application/vnd.jupyter.widget-view+json": {
       "model_id": "b809d34da4ab48bdbb8a0e54362f3f21",
       "version_major": 2,
       "version_minor": 0
      },
      "text/plain": [
       "dev/bos_Latn.parquet:   0%|          | 0.00/122k [00:00<?, ?B/s]"
      ]
     },
     "metadata": {},
     "output_type": "display_data"
    },
    {
     "data": {
      "application/vnd.jupyter.widget-view+json": {
       "model_id": "cc4b0626d8a74bbb981512930a3470da",
       "version_major": 2,
       "version_minor": 0
      },
      "text/plain": [
       "dev/cat_Latn.parquet:   0%|          | 0.00/123k [00:00<?, ?B/s]"
      ]
     },
     "metadata": {},
     "output_type": "display_data"
    },
    {
     "data": {
      "application/vnd.jupyter.widget-view+json": {
       "model_id": "356bec9b29f4402c8987e6bba9e9c9a7",
       "version_major": 2,
       "version_minor": 0
      },
      "text/plain": [
       "dev/bug_Latn.parquet:   0%|          | 0.00/121k [00:00<?, ?B/s]"
      ]
     },
     "metadata": {},
     "output_type": "display_data"
    },
    {
     "data": {
      "application/vnd.jupyter.widget-view+json": {
       "model_id": "1cb56c649b344edfbb25c01b0bd6216e",
       "version_major": 2,
       "version_minor": 0
      },
      "text/plain": [
       "dev/ceb_Latn.parquet:   0%|          | 0.00/121k [00:00<?, ?B/s]"
      ]
     },
     "metadata": {},
     "output_type": "display_data"
    },
    {
     "data": {
      "application/vnd.jupyter.widget-view+json": {
       "model_id": "de61b8e658dc4f5aa75000f6cfcaa3e3",
       "version_major": 2,
       "version_minor": 0
      },
      "text/plain": [
       "dev/ces_Latn.parquet:   0%|          | 0.00/126k [00:00<?, ?B/s]"
      ]
     },
     "metadata": {},
     "output_type": "display_data"
    },
    {
     "data": {
      "application/vnd.jupyter.widget-view+json": {
       "model_id": "2db1c3e4ffec4985a7429dc2fa2668a5",
       "version_major": 2,
       "version_minor": 0
      },
      "text/plain": [
       "dev/chv_Cyrl.parquet:   0%|          | 0.00/155k [00:00<?, ?B/s]"
      ]
     },
     "metadata": {},
     "output_type": "display_data"
    },
    {
     "data": {
      "application/vnd.jupyter.widget-view+json": {
       "model_id": "ceb593e0519d43d1bab2a0644bcb2caf",
       "version_major": 2,
       "version_minor": 0
      },
      "text/plain": [
       "dev/bul_Cyrl.parquet:   0%|          | 0.00/150k [00:00<?, ?B/s]"
      ]
     },
     "metadata": {},
     "output_type": "display_data"
    },
    {
     "data": {
      "application/vnd.jupyter.widget-view+json": {
       "model_id": "dce9dd8f6477421389e74a0d055ad290",
       "version_major": 2,
       "version_minor": 0
      },
      "text/plain": [
       "dev/cjk_Latn.parquet:   0%|          | 0.00/122k [00:00<?, ?B/s]"
      ]
     },
     "metadata": {},
     "output_type": "display_data"
    },
    {
     "data": {
      "application/vnd.jupyter.widget-view+json": {
       "model_id": "73b2303fdcda436888e0bc0f57fdd610",
       "version_major": 2,
       "version_minor": 0
      },
      "text/plain": [
       "dev/cmn_Hans.parquet:   0%|          | 0.00/118k [00:00<?, ?B/s]"
      ]
     },
     "metadata": {},
     "output_type": "display_data"
    },
    {
     "data": {
      "application/vnd.jupyter.widget-view+json": {
       "model_id": "b87ebde340c2408487652505e49fe226",
       "version_major": 2,
       "version_minor": 0
      },
      "text/plain": [
       "dev/cmn_Hant.parquet:   0%|          | 0.00/115k [00:00<?, ?B/s]"
      ]
     },
     "metadata": {},
     "output_type": "display_data"
    },
    {
     "data": {
      "application/vnd.jupyter.widget-view+json": {
       "model_id": "0c95df431089450f8850e9246278d0d6",
       "version_major": 2,
       "version_minor": 0
      },
      "text/plain": [
       "dev/ckb_Arab.parquet:   0%|          | 0.00/144k [00:00<?, ?B/s]"
      ]
     },
     "metadata": {},
     "output_type": "display_data"
    },
    {
     "data": {
      "application/vnd.jupyter.widget-view+json": {
       "model_id": "d94b432cdb2c4d4f84ba41b7558980ed",
       "version_major": 2,
       "version_minor": 0
      },
      "text/plain": [
       "dev/crh_Latn.parquet:   0%|          | 0.00/121k [00:00<?, ?B/s]"
      ]
     },
     "metadata": {},
     "output_type": "display_data"
    },
    {
     "data": {
      "application/vnd.jupyter.widget-view+json": {
       "model_id": "aacd65fa536442aa9abb65712e55d6c2",
       "version_major": 2,
       "version_minor": 0
      },
      "text/plain": [
       "dev/cym_Latn.parquet:   0%|          | 0.00/118k [00:00<?, ?B/s]"
      ]
     },
     "metadata": {},
     "output_type": "display_data"
    },
    {
     "data": {
      "application/vnd.jupyter.widget-view+json": {
       "model_id": "4116a7e090c24579b1e833c3d932b27a",
       "version_major": 2,
       "version_minor": 0
      },
      "text/plain": [
       "dev/deu_Latn.parquet:   0%|          | 0.00/128k [00:00<?, ?B/s]"
      ]
     },
     "metadata": {},
     "output_type": "display_data"
    },
    {
     "data": {
      "application/vnd.jupyter.widget-view+json": {
       "model_id": "116e155513f74143939d1a746d00e59c",
       "version_major": 2,
       "version_minor": 0
      },
      "text/plain": [
       "dev/dar_Cyrl.parquet:   0%|          | 0.00/159k [00:00<?, ?B/s]"
      ]
     },
     "metadata": {},
     "output_type": "display_data"
    },
    {
     "data": {
      "application/vnd.jupyter.widget-view+json": {
       "model_id": "7c7a50e84934481bb29003c2758fbf7b",
       "version_major": 2,
       "version_minor": 0
      },
      "text/plain": [
       "dev/dan_Latn.parquet:   0%|          | 0.00/117k [00:00<?, ?B/s]"
      ]
     },
     "metadata": {},
     "output_type": "display_data"
    },
    {
     "data": {
      "application/vnd.jupyter.widget-view+json": {
       "model_id": "944297d9e7ce4de881db9d19bdb74791",
       "version_major": 2,
       "version_minor": 0
      },
      "text/plain": [
       "dev/dgo_Deva.parquet:   0%|          | 0.00/168k [00:00<?, ?B/s]"
      ]
     },
     "metadata": {},
     "output_type": "display_data"
    },
    {
     "data": {
      "application/vnd.jupyter.widget-view+json": {
       "model_id": "efdf8e29bf424a658e3ef04ad3b8d29c",
       "version_major": 2,
       "version_minor": 0
      },
      "text/plain": [
       "dev/dyu_Latn.parquet:   0%|          | 0.00/123k [00:00<?, ?B/s]"
      ]
     },
     "metadata": {},
     "output_type": "display_data"
    },
    {
     "data": {
      "application/vnd.jupyter.widget-view+json": {
       "model_id": "d18e310ce70748faa36412ee02b831dc",
       "version_major": 2,
       "version_minor": 0
      },
      "text/plain": [
       "dev/dzo_Tibt.parquet:   0%|          | 0.00/178k [00:00<?, ?B/s]"
      ]
     },
     "metadata": {},
     "output_type": "display_data"
    },
    {
     "data": {
      "application/vnd.jupyter.widget-view+json": {
       "model_id": "cb755be8d1e64273920fe34a8338c2f6",
       "version_major": 2,
       "version_minor": 0
      },
      "text/plain": [
       "dev/ekk_Latn.parquet:   0%|          | 0.00/118k [00:00<?, ?B/s]"
      ]
     },
     "metadata": {},
     "output_type": "display_data"
    },
    {
     "data": {
      "application/vnd.jupyter.widget-view+json": {
       "model_id": "180762494da743b186936c4d057cbfeb",
       "version_major": 2,
       "version_minor": 0
      },
      "text/plain": [
       "dev/ell_Grek.parquet:   0%|          | 0.00/171k [00:00<?, ?B/s]"
      ]
     },
     "metadata": {},
     "output_type": "display_data"
    },
    {
     "data": {
      "application/vnd.jupyter.widget-view+json": {
       "model_id": "4568afe6e5f04bf1a8d712796a24c47c",
       "version_major": 2,
       "version_minor": 0
      },
      "text/plain": [
       "dev/eng_Latn.parquet:   0%|          | 0.00/112k [00:00<?, ?B/s]"
      ]
     },
     "metadata": {},
     "output_type": "display_data"
    },
    {
     "data": {
      "application/vnd.jupyter.widget-view+json": {
       "model_id": "8ebef82e66324c2e8f43b5fad918e3ee",
       "version_major": 2,
       "version_minor": 0
      },
      "text/plain": [
       "dev/epo_Latn.parquet:   0%|          | 0.00/114k [00:00<?, ?B/s]"
      ]
     },
     "metadata": {},
     "output_type": "display_data"
    },
    {
     "data": {
      "application/vnd.jupyter.widget-view+json": {
       "model_id": "826f86990d9b4c30975e287136aa92ca",
       "version_major": 2,
       "version_minor": 0
      },
      "text/plain": [
       "dev/dik_Latn.parquet:   0%|          | 0.00/106k [00:00<?, ?B/s]"
      ]
     },
     "metadata": {},
     "output_type": "display_data"
    },
    {
     "data": {
      "application/vnd.jupyter.widget-view+json": {
       "model_id": "2788b8dc922448588186702afaf092bf",
       "version_major": 2,
       "version_minor": 0
      },
      "text/plain": [
       "dev/eus_Latn.parquet:   0%|          | 0.00/116k [00:00<?, ?B/s]"
      ]
     },
     "metadata": {},
     "output_type": "display_data"
    },
    {
     "data": {
      "application/vnd.jupyter.widget-view+json": {
       "model_id": "64bdeb1c2a154809838d04d3e24bb00a",
       "version_major": 2,
       "version_minor": 0
      },
      "text/plain": [
       "dev/ewe_Latn.parquet:   0%|          | 0.00/111k [00:00<?, ?B/s]"
      ]
     },
     "metadata": {},
     "output_type": "display_data"
    },
    {
     "data": {
      "application/vnd.jupyter.widget-view+json": {
       "model_id": "8b5d5b05a79b4d93b88735fae93fc41c",
       "version_major": 2,
       "version_minor": 0
      },
      "text/plain": [
       "dev/fao_Latn.parquet:   0%|          | 0.00/119k [00:00<?, ?B/s]"
      ]
     },
     "metadata": {},
     "output_type": "display_data"
    },
    {
     "data": {
      "application/vnd.jupyter.widget-view+json": {
       "model_id": "c73bf0f76426438498ba44fe52e0f35e",
       "version_major": 2,
       "version_minor": 0
      },
      "text/plain": [
       "dev/fij_Latn.parquet:   0%|          | 0.00/111k [00:00<?, ?B/s]"
      ]
     },
     "metadata": {},
     "output_type": "display_data"
    },
    {
     "data": {
      "application/vnd.jupyter.widget-view+json": {
       "model_id": "00817f42299d489a95ec7fcfce15c654",
       "version_major": 2,
       "version_minor": 0
      },
      "text/plain": [
       "dev/fil_Latn.parquet:   0%|          | 0.00/125k [00:00<?, ?B/s]"
      ]
     },
     "metadata": {},
     "output_type": "display_data"
    },
    {
     "data": {
      "application/vnd.jupyter.widget-view+json": {
       "model_id": "b42d3c3a4d914e258f0ff8d15d906366",
       "version_major": 2,
       "version_minor": 0
      },
      "text/plain": [
       "dev/fin_Latn.parquet:   0%|          | 0.00/124k [00:00<?, ?B/s]"
      ]
     },
     "metadata": {},
     "output_type": "display_data"
    },
    {
     "data": {
      "application/vnd.jupyter.widget-view+json": {
       "model_id": "5d42e73d4cf7402ca78bbde79e88ad49",
       "version_major": 2,
       "version_minor": 0
      },
      "text/plain": [
       "dev/fur_Latn.parquet:   0%|          | 0.00/122k [00:00<?, ?B/s]"
      ]
     },
     "metadata": {},
     "output_type": "display_data"
    },
    {
     "data": {
      "application/vnd.jupyter.widget-view+json": {
       "model_id": "2b4cd458d0e745a386e05304f57160fc",
       "version_major": 2,
       "version_minor": 0
      },
      "text/plain": [
       "dev/fon_Latn.parquet:   0%|          | 0.00/125k [00:00<?, ?B/s]"
      ]
     },
     "metadata": {},
     "output_type": "display_data"
    },
    {
     "data": {
      "application/vnd.jupyter.widget-view+json": {
       "model_id": "220e947c7e244c1abddb3e53caa872b0",
       "version_major": 2,
       "version_minor": 0
      },
      "text/plain": [
       "dev/fuv_Latn.parquet:   0%|          | 0.00/112k [00:00<?, ?B/s]"
      ]
     },
     "metadata": {},
     "output_type": "display_data"
    },
    {
     "data": {
      "application/vnd.jupyter.widget-view+json": {
       "model_id": "9d136286dc8948f6b3b14aaa014de612",
       "version_major": 2,
       "version_minor": 0
      },
      "text/plain": [
       "dev/fra_Latn.parquet:   0%|          | 0.00/129k [00:00<?, ?B/s]"
      ]
     },
     "metadata": {},
     "output_type": "display_data"
    },
    {
     "data": {
      "application/vnd.jupyter.widget-view+json": {
       "model_id": "50dceb87ace0459eb2fa99a1ad9f942f",
       "version_major": 2,
       "version_minor": 0
      },
      "text/plain": [
       "dev/gla_Latn.parquet:   0%|          | 0.00/128k [00:00<?, ?B/s]"
      ]
     },
     "metadata": {},
     "output_type": "display_data"
    },
    {
     "data": {
      "application/vnd.jupyter.widget-view+json": {
       "model_id": "3c19d9ef9c9547c99b5321f6cdc0b04e",
       "version_major": 2,
       "version_minor": 0
      },
      "text/plain": [
       "dev/gaz_Latn.parquet:   0%|          | 0.00/125k [00:00<?, ?B/s]"
      ]
     },
     "metadata": {},
     "output_type": "display_data"
    },
    {
     "data": {
      "application/vnd.jupyter.widget-view+json": {
       "model_id": "6b31ebed7e0d4caeb278001b61b0fa3b",
       "version_major": 2,
       "version_minor": 0
      },
      "text/plain": [
       "dev/gle_Latn.parquet:   0%|          | 0.00/129k [00:00<?, ?B/s]"
      ]
     },
     "metadata": {},
     "output_type": "display_data"
    },
    {
     "data": {
      "application/vnd.jupyter.widget-view+json": {
       "model_id": "84c272efb88f4a6abb90493df89963e8",
       "version_major": 2,
       "version_minor": 0
      },
      "text/plain": [
       "dev/gom_Deva.parquet:   0%|          | 0.00/160k [00:00<?, ?B/s]"
      ]
     },
     "metadata": {},
     "output_type": "display_data"
    },
    {
     "data": {
      "application/vnd.jupyter.widget-view+json": {
       "model_id": "171673fb551643ce81e20470ae1009f1",
       "version_major": 2,
       "version_minor": 0
      },
      "text/plain": [
       "dev/glg_Latn.parquet:   0%|          | 0.00/123k [00:00<?, ?B/s]"
      ]
     },
     "metadata": {},
     "output_type": "display_data"
    },
    {
     "data": {
      "application/vnd.jupyter.widget-view+json": {
       "model_id": "eec8099acf70481d8de97cb209546d5f",
       "version_major": 2,
       "version_minor": 0
      },
      "text/plain": [
       "dev/gug_Latn.parquet:   0%|          | 0.00/115k [00:00<?, ?B/s]"
      ]
     },
     "metadata": {},
     "output_type": "display_data"
    },
    {
     "data": {
      "application/vnd.jupyter.widget-view+json": {
       "model_id": "0bdc2dbfab7a4eedab1768aa09ee2e5c",
       "version_major": 2,
       "version_minor": 0
      },
      "text/plain": [
       "dev/guj_Gujr.parquet:   0%|          | 0.00/162k [00:00<?, ?B/s]"
      ]
     },
     "metadata": {},
     "output_type": "display_data"
    },
    {
     "data": {
      "application/vnd.jupyter.widget-view+json": {
       "model_id": "0f183aa37a3e42c88a6900d60a2aa80a",
       "version_major": 2,
       "version_minor": 0
      },
      "text/plain": [
       "dev/hat_Latn.parquet:   0%|          | 0.00/108k [00:00<?, ?B/s]"
      ]
     },
     "metadata": {},
     "output_type": "display_data"
    },
    {
     "data": {
      "application/vnd.jupyter.widget-view+json": {
       "model_id": "a74f2bacc9c14b48a06364376c96dc66",
       "version_major": 2,
       "version_minor": 0
      },
      "text/plain": [
       "dev/hau_Latn.parquet:   0%|          | 0.00/117k [00:00<?, ?B/s]"
      ]
     },
     "metadata": {},
     "output_type": "display_data"
    },
    {
     "data": {
      "application/vnd.jupyter.widget-view+json": {
       "model_id": "055b8457e0d643ef876fac5cefe1cc27",
       "version_major": 2,
       "version_minor": 0
      },
      "text/plain": [
       "dev/heb_Hebr.parquet:   0%|          | 0.00/125k [00:00<?, ?B/s]"
      ]
     },
     "metadata": {},
     "output_type": "display_data"
    },
    {
     "data": {
      "application/vnd.jupyter.widget-view+json": {
       "model_id": "ca7f9e0b7d314e33a7d20971052c63b0",
       "version_major": 2,
       "version_minor": 0
      },
      "text/plain": [
       "dev/hne_Deva.parquet:   0%|          | 0.00/157k [00:00<?, ?B/s]"
      ]
     },
     "metadata": {},
     "output_type": "display_data"
    },
    {
     "data": {
      "application/vnd.jupyter.widget-view+json": {
       "model_id": "96de9c3f258f41fab7ffae542afc68dd",
       "version_major": 2,
       "version_minor": 0
      },
      "text/plain": [
       "dev/hin_Deva.parquet:   0%|          | 0.00/161k [00:00<?, ?B/s]"
      ]
     },
     "metadata": {},
     "output_type": "display_data"
    },
    {
     "data": {
      "application/vnd.jupyter.widget-view+json": {
       "model_id": "53b0223f7eba43eea5fd659791b9005f",
       "version_major": 2,
       "version_minor": 0
      },
      "text/plain": [
       "dev/hrv_Latn.parquet:   0%|          | 0.00/119k [00:00<?, ?B/s]"
      ]
     },
     "metadata": {},
     "output_type": "display_data"
    },
    {
     "data": {
      "application/vnd.jupyter.widget-view+json": {
       "model_id": "5bd341210f14430fbe4a5bf82ebf7369",
       "version_major": 2,
       "version_minor": 0
      },
      "text/plain": [
       "dev/ibo_Latn.parquet:   0%|          | 0.00/118k [00:00<?, ?B/s]"
      ]
     },
     "metadata": {},
     "output_type": "display_data"
    },
    {
     "data": {
      "application/vnd.jupyter.widget-view+json": {
       "model_id": "ec04c051d00c4a15b9454b5c2809e5dc",
       "version_major": 2,
       "version_minor": 0
      },
      "text/plain": [
       "dev/hun_Latn.parquet:   0%|          | 0.00/128k [00:00<?, ?B/s]"
      ]
     },
     "metadata": {},
     "output_type": "display_data"
    },
    {
     "data": {
      "application/vnd.jupyter.widget-view+json": {
       "model_id": "8b458c7aef674a219d4688e4df46999c",
       "version_major": 2,
       "version_minor": 0
      },
      "text/plain": [
       "dev/hye_Armn.parquet:   0%|          | 0.00/158k [00:00<?, ?B/s]"
      ]
     },
     "metadata": {},
     "output_type": "display_data"
    },
    {
     "data": {
      "application/vnd.jupyter.widget-view+json": {
       "model_id": "b27f807e307042a989fe9fadc1f660ba",
       "version_major": 2,
       "version_minor": 0
      },
      "text/plain": [
       "dev/ilo_Latn.parquet:   0%|          | 0.00/123k [00:00<?, ?B/s]"
      ]
     },
     "metadata": {},
     "output_type": "display_data"
    },
    {
     "data": {
      "application/vnd.jupyter.widget-view+json": {
       "model_id": "2b44e0a26e8c4b5a8b4c44aa0f3d8388",
       "version_major": 2,
       "version_minor": 0
      },
      "text/plain": [
       "dev/isl_Latn.parquet:   0%|          | 0.00/121k [00:00<?, ?B/s]"
      ]
     },
     "metadata": {},
     "output_type": "display_data"
    },
    {
     "data": {
      "application/vnd.jupyter.widget-view+json": {
       "model_id": "6e64e99d3c81489281b93baeeb342a19",
       "version_major": 2,
       "version_minor": 0
      },
      "text/plain": [
       "dev/ind_Latn.parquet:   0%|          | 0.00/113k [00:00<?, ?B/s]"
      ]
     },
     "metadata": {},
     "output_type": "display_data"
    },
    {
     "data": {
      "application/vnd.jupyter.widget-view+json": {
       "model_id": "69b6e27a3442415197a1cf31912d8f73",
       "version_major": 2,
       "version_minor": 0
      },
      "text/plain": [
       "dev/ita_Latn.parquet:   0%|          | 0.00/127k [00:00<?, ?B/s]"
      ]
     },
     "metadata": {},
     "output_type": "display_data"
    },
    {
     "data": {
      "application/vnd.jupyter.widget-view+json": {
       "model_id": "d7ea87b1db914fbd906eb4a9a70e62dd",
       "version_major": 2,
       "version_minor": 0
      },
      "text/plain": [
       "dev/jav_Latn.parquet:   0%|          | 0.00/112k [00:00<?, ?B/s]"
      ]
     },
     "metadata": {},
     "output_type": "display_data"
    },
    {
     "data": {
      "application/vnd.jupyter.widget-view+json": {
       "model_id": "08ee907ee1cd460b93f6740672a4f1da",
       "version_major": 2,
       "version_minor": 0
      },
      "text/plain": [
       "dev/jpn_Jpan.parquet:   0%|          | 0.00/127k [00:00<?, ?B/s]"
      ]
     },
     "metadata": {},
     "output_type": "display_data"
    },
    {
     "data": {
      "application/vnd.jupyter.widget-view+json": {
       "model_id": "ec119bcfe7af44dea517291b6bb0ecb7",
       "version_major": 2,
       "version_minor": 0
      },
      "text/plain": [
       "dev/kab_Latn.parquet:   0%|          | 0.00/117k [00:00<?, ?B/s]"
      ]
     },
     "metadata": {},
     "output_type": "display_data"
    },
    {
     "data": {
      "application/vnd.jupyter.widget-view+json": {
       "model_id": "21424dc0e8644a1cb46ea5705135afa9",
       "version_major": 2,
       "version_minor": 0
      },
      "text/plain": [
       "dev/kac_Latn.parquet:   0%|          | 0.00/120k [00:00<?, ?B/s]"
      ]
     },
     "metadata": {},
     "output_type": "display_data"
    },
    {
     "data": {
      "application/vnd.jupyter.widget-view+json": {
       "model_id": "973c3893ee7647c8a322cb93f97f666f",
       "version_major": 2,
       "version_minor": 0
      },
      "text/plain": [
       "dev/kam_Latn.parquet:   0%|          | 0.00/116k [00:00<?, ?B/s]"
      ]
     },
     "metadata": {},
     "output_type": "display_data"
    },
    {
     "data": {
      "application/vnd.jupyter.widget-view+json": {
       "model_id": "7a4eb36ef09a43e490efbafce91319e9",
       "version_major": 2,
       "version_minor": 0
      },
      "text/plain": [
       "dev/kas_Deva.parquet:   0%|          | 0.00/163k [00:00<?, ?B/s]"
      ]
     },
     "metadata": {},
     "output_type": "display_data"
    },
    {
     "data": {
      "application/vnd.jupyter.widget-view+json": {
       "model_id": "d8f2ea1484b046608e97b7dc1cd9c1b3",
       "version_major": 2,
       "version_minor": 0
      },
      "text/plain": [
       "dev/kan_Knda.parquet:   0%|          | 0.00/175k [00:00<?, ?B/s]"
      ]
     },
     "metadata": {},
     "output_type": "display_data"
    },
    {
     "data": {
      "application/vnd.jupyter.widget-view+json": {
       "model_id": "b82aff9adac84747a958379d0275db5a",
       "version_major": 2,
       "version_minor": 0
      },
      "text/plain": [
       "dev/kat_Geor.parquet:   0%|          | 0.00/171k [00:00<?, ?B/s]"
      ]
     },
     "metadata": {},
     "output_type": "display_data"
    },
    {
     "data": {
      "application/vnd.jupyter.widget-view+json": {
       "model_id": "3ab5e3f24f7642feae064e12cc9084d2",
       "version_major": 2,
       "version_minor": 0
      },
      "text/plain": [
       "dev/kas_Arab.parquet:   0%|          | 0.00/150k [00:00<?, ?B/s]"
      ]
     },
     "metadata": {},
     "output_type": "display_data"
    },
    {
     "data": {
      "application/vnd.jupyter.widget-view+json": {
       "model_id": "3857e68c1be64d4482dea6c580300529",
       "version_major": 2,
       "version_minor": 0
      },
      "text/plain": [
       "dev/kaz_Cyrl.parquet:   0%|          | 0.00/148k [00:00<?, ?B/s]"
      ]
     },
     "metadata": {},
     "output_type": "display_data"
    },
    {
     "data": {
      "application/vnd.jupyter.widget-view+json": {
       "model_id": "363ca9990f4a4675bf1fee54686c47fe",
       "version_major": 2,
       "version_minor": 0
      },
      "text/plain": [
       "dev/kbp_Latn.parquet:   0%|          | 0.00/124k [00:00<?, ?B/s]"
      ]
     },
     "metadata": {},
     "output_type": "display_data"
    },
    {
     "data": {
      "application/vnd.jupyter.widget-view+json": {
       "model_id": "de8f35a3fd6b42a898813c652d10534c",
       "version_major": 2,
       "version_minor": 0
      },
      "text/plain": [
       "dev/khk_Cyrl.parquet:   0%|          | 0.00/150k [00:00<?, ?B/s]"
      ]
     },
     "metadata": {},
     "output_type": "display_data"
    },
    {
     "data": {
      "application/vnd.jupyter.widget-view+json": {
       "model_id": "ee66c2bb71dd4a648b130a428f7e7b27",
       "version_major": 2,
       "version_minor": 0
      },
      "text/plain": [
       "dev/kea_Latn.parquet:   0%|          | 0.00/113k [00:00<?, ?B/s]"
      ]
     },
     "metadata": {},
     "output_type": "display_data"
    },
    {
     "data": {
      "application/vnd.jupyter.widget-view+json": {
       "model_id": "5baceb3dbe02472582cae656d6fe4de0",
       "version_major": 2,
       "version_minor": 0
      },
      "text/plain": [
       "dev/khm_Khmr.parquet:   0%|          | 0.00/205k [00:00<?, ?B/s]"
      ]
     },
     "metadata": {},
     "output_type": "display_data"
    },
    {
     "data": {
      "application/vnd.jupyter.widget-view+json": {
       "model_id": "bccb4df8ecf248efa7c0f6f3d397adcb",
       "version_major": 2,
       "version_minor": 0
      },
      "text/plain": [
       "dev/kik_Latn.parquet:   0%|          | 0.00/125k [00:00<?, ?B/s]"
      ]
     },
     "metadata": {},
     "output_type": "display_data"
    },
    {
     "data": {
      "application/vnd.jupyter.widget-view+json": {
       "model_id": "b7b793a8d5dc4f48ababf7e129224141",
       "version_major": 2,
       "version_minor": 0
      },
      "text/plain": [
       "dev/kmb_Latn.parquet:   0%|          | 0.00/116k [00:00<?, ?B/s]"
      ]
     },
     "metadata": {},
     "output_type": "display_data"
    },
    {
     "data": {
      "application/vnd.jupyter.widget-view+json": {
       "model_id": "0ee137449f624b1fa21a0b19192cca12",
       "version_major": 2,
       "version_minor": 0
      },
      "text/plain": [
       "dev/kir_Cyrl.parquet:   0%|          | 0.00/150k [00:00<?, ?B/s]"
      ]
     },
     "metadata": {},
     "output_type": "display_data"
    },
    {
     "data": {
      "application/vnd.jupyter.widget-view+json": {
       "model_id": "459fdd81b5b5404c8f5e8d520737a6c8",
       "version_major": 2,
       "version_minor": 0
      },
      "text/plain": [
       "dev/kin_Latn.parquet:   0%|          | 0.00/120k [00:00<?, ?B/s]"
      ]
     },
     "metadata": {},
     "output_type": "display_data"
    },
    {
     "data": {
      "application/vnd.jupyter.widget-view+json": {
       "model_id": "7ed56d6218414bbea376ca4d330aba2a",
       "version_major": 2,
       "version_minor": 0
      },
      "text/plain": [
       "dev/kmr_Latn.parquet:   0%|          | 0.00/122k [00:00<?, ?B/s]"
      ]
     },
     "metadata": {},
     "output_type": "display_data"
    },
    {
     "data": {
      "application/vnd.jupyter.widget-view+json": {
       "model_id": "7780fd2e19f34694aa9f5555ed8ce35a",
       "version_major": 2,
       "version_minor": 0
      },
      "text/plain": [
       "dev/knc_Arab.parquet:   0%|          | 0.00/131k [00:00<?, ?B/s]"
      ]
     },
     "metadata": {},
     "output_type": "display_data"
    },
    {
     "data": {
      "application/vnd.jupyter.widget-view+json": {
       "model_id": "12d528dcc1804d0999f0f4b3bc759cbf",
       "version_major": 2,
       "version_minor": 0
      },
      "text/plain": [
       "dev/ktu_Latn.parquet:   0%|          | 0.00/110k [00:00<?, ?B/s]"
      ]
     },
     "metadata": {},
     "output_type": "display_data"
    },
    {
     "data": {
      "application/vnd.jupyter.widget-view+json": {
       "model_id": "7acc1498366a4384843498e09cf62b50",
       "version_major": 2,
       "version_minor": 0
      },
      "text/plain": [
       "dev/kor_Hang.parquet:   0%|          | 0.00/126k [00:00<?, ?B/s]"
      ]
     },
     "metadata": {},
     "output_type": "display_data"
    },
    {
     "data": {
      "application/vnd.jupyter.widget-view+json": {
       "model_id": "546a07901f3e4138addff79375679128",
       "version_major": 2,
       "version_minor": 0
      },
      "text/plain": [
       "dev/lao_Laoo.parquet:   0%|          | 0.00/173k [00:00<?, ?B/s]"
      ]
     },
     "metadata": {},
     "output_type": "display_data"
    },
    {
     "data": {
      "application/vnd.jupyter.widget-view+json": {
       "model_id": "4784388c0c324f9591f77abaf38be314",
       "version_major": 2,
       "version_minor": 0
      },
      "text/plain": [
       "dev/knc_Latn.parquet:   0%|          | 0.00/119k [00:00<?, ?B/s]"
      ]
     },
     "metadata": {},
     "output_type": "display_data"
    },
    {
     "data": {
      "application/vnd.jupyter.widget-view+json": {
       "model_id": "52875d4093224950aa7be628910e9985",
       "version_major": 2,
       "version_minor": 0
      },
      "text/plain": [
       "dev/lij_Latn.parquet:   0%|          | 0.00/126k [00:00<?, ?B/s]"
      ]
     },
     "metadata": {},
     "output_type": "display_data"
    },
    {
     "data": {
      "application/vnd.jupyter.widget-view+json": {
       "model_id": "122843ddc8ed4d5295cb7ebfd122229c",
       "version_major": 2,
       "version_minor": 0
      },
      "text/plain": [
       "dev/lim_Latn.parquet:   0%|          | 0.00/119k [00:00<?, ?B/s]"
      ]
     },
     "metadata": {},
     "output_type": "display_data"
    },
    {
     "data": {
      "application/vnd.jupyter.widget-view+json": {
       "model_id": "b9b1775ee84546cdb2a18e6a99621f45",
       "version_major": 2,
       "version_minor": 0
      },
      "text/plain": [
       "dev/lin_Latn.parquet:   0%|          | 0.00/106k [00:00<?, ?B/s]"
      ]
     },
     "metadata": {},
     "output_type": "display_data"
    },
    {
     "data": {
      "application/vnd.jupyter.widget-view+json": {
       "model_id": "3f74add1dd8c46689f789e099ebba39d",
       "version_major": 2,
       "version_minor": 0
      },
      "text/plain": [
       "dev/ltz_Latn.parquet:   0%|          | 0.00/125k [00:00<?, ?B/s]"
      ]
     },
     "metadata": {},
     "output_type": "display_data"
    },
    {
     "data": {
      "application/vnd.jupyter.widget-view+json": {
       "model_id": "34f2f9fa37254a1d8bf404e01a7e55d7",
       "version_major": 2,
       "version_minor": 0
      },
      "text/plain": [
       "dev/lit_Latn.parquet:   0%|          | 0.00/123k [00:00<?, ?B/s]"
      ]
     },
     "metadata": {},
     "output_type": "display_data"
    },
    {
     "data": {
      "application/vnd.jupyter.widget-view+json": {
       "model_id": "e86efec2a28643c0be03fac82727a88e",
       "version_major": 2,
       "version_minor": 0
      },
      "text/plain": [
       "dev/lmo_Latn.parquet:   0%|          | 0.00/126k [00:00<?, ?B/s]"
      ]
     },
     "metadata": {},
     "output_type": "display_data"
    },
    {
     "data": {
      "application/vnd.jupyter.widget-view+json": {
       "model_id": "4c6a68dd1d2842939b7d05b8575ebb40",
       "version_major": 2,
       "version_minor": 0
      },
      "text/plain": [
       "dev/lld_Latn.parquet:   0%|          | 0.00/122k [00:00<?, ?B/s]"
      ]
     },
     "metadata": {},
     "output_type": "display_data"
    },
    {
     "data": {
      "application/vnd.jupyter.widget-view+json": {
       "model_id": "9b499239f69c49a4a9b50b1e792e039f",
       "version_major": 2,
       "version_minor": 0
      },
      "text/plain": [
       "dev/lua_Latn.parquet:   0%|          | 0.00/113k [00:00<?, ?B/s]"
      ]
     },
     "metadata": {},
     "output_type": "display_data"
    },
    {
     "data": {
      "application/vnd.jupyter.widget-view+json": {
       "model_id": "4957358376234444a247b6698d806bb5",
       "version_major": 2,
       "version_minor": 0
      },
      "text/plain": [
       "dev/ltg_Latn.parquet:   0%|          | 0.00/120k [00:00<?, ?B/s]"
      ]
     },
     "metadata": {},
     "output_type": "display_data"
    },
    {
     "data": {
      "application/vnd.jupyter.widget-view+json": {
       "model_id": "15b82fd04812481aa71b55e8005c4150",
       "version_major": 2,
       "version_minor": 0
      },
      "text/plain": [
       "dev/lug_Latn.parquet:   0%|          | 0.00/118k [00:00<?, ?B/s]"
      ]
     },
     "metadata": {},
     "output_type": "display_data"
    },
    {
     "data": {
      "application/vnd.jupyter.widget-view+json": {
       "model_id": "41299264d97549b4a49d90f85e3bb1c1",
       "version_major": 2,
       "version_minor": 0
      },
      "text/plain": [
       "dev/lus_Latn.parquet:   0%|          | 0.00/116k [00:00<?, ?B/s]"
      ]
     },
     "metadata": {},
     "output_type": "display_data"
    },
    {
     "data": {
      "application/vnd.jupyter.widget-view+json": {
       "model_id": "d822bae31ca0472c9c8e6468df561aa8",
       "version_major": 2,
       "version_minor": 0
      },
      "text/plain": [
       "dev/luo_Latn.parquet:   0%|          | 0.00/114k [00:00<?, ?B/s]"
      ]
     },
     "metadata": {},
     "output_type": "display_data"
    },
    {
     "data": {
      "application/vnd.jupyter.widget-view+json": {
       "model_id": "9c5aa104e87a4f2e8ecc4341ce8db8e5",
       "version_major": 2,
       "version_minor": 0
      },
      "text/plain": [
       "dev/lvs_Latn.parquet:   0%|          | 0.00/125k [00:00<?, ?B/s]"
      ]
     },
     "metadata": {},
     "output_type": "display_data"
    },
    {
     "data": {
      "application/vnd.jupyter.widget-view+json": {
       "model_id": "4f0e8e2ed3244d5a8710c636c0395edd",
       "version_major": 2,
       "version_minor": 0
      },
      "text/plain": [
       "dev/mai_Deva.parquet:   0%|          | 0.00/158k [00:00<?, ?B/s]"
      ]
     },
     "metadata": {},
     "output_type": "display_data"
    },
    {
     "data": {
      "application/vnd.jupyter.widget-view+json": {
       "model_id": "10f4a16a627a483e8274a194ad985b33",
       "version_major": 2,
       "version_minor": 0
      },
      "text/plain": [
       "dev/mal_Mlym.parquet:   0%|          | 0.00/184k [00:00<?, ?B/s]"
      ]
     },
     "metadata": {},
     "output_type": "display_data"
    },
    {
     "data": {
      "application/vnd.jupyter.widget-view+json": {
       "model_id": "e409a6dffaf14b93b0098ef134618f2e",
       "version_major": 2,
       "version_minor": 0
      },
      "text/plain": [
       "dev/mar_Deva.parquet:   0%|          | 0.00/168k [00:00<?, ?B/s]"
      ]
     },
     "metadata": {},
     "output_type": "display_data"
    },
    {
     "data": {
      "application/vnd.jupyter.widget-view+json": {
       "model_id": "45fef60ac3064242bfaf1202e55f4b96",
       "version_major": 2,
       "version_minor": 0
      },
      "text/plain": [
       "dev/mag_Deva.parquet:   0%|          | 0.00/154k [00:00<?, ?B/s]"
      ]
     },
     "metadata": {},
     "output_type": "display_data"
    },
    {
     "data": {
      "application/vnd.jupyter.widget-view+json": {
       "model_id": "59c29b17f65d4fe9bf39cc342ec143d0",
       "version_major": 2,
       "version_minor": 0
      },
      "text/plain": [
       "dev/mhr_Cyrl.parquet:   0%|          | 0.00/151k [00:00<?, ?B/s]"
      ]
     },
     "metadata": {},
     "output_type": "display_data"
    },
    {
     "data": {
      "application/vnd.jupyter.widget-view+json": {
       "model_id": "bf1ace04a8294554a14b75df0f58c8aa",
       "version_major": 2,
       "version_minor": 0
      },
      "text/plain": [
       "dev/min_Arab.parquet:   0%|          | 0.00/137k [00:00<?, ?B/s]"
      ]
     },
     "metadata": {},
     "output_type": "display_data"
    },
    {
     "data": {
      "application/vnd.jupyter.widget-view+json": {
       "model_id": "dbe624d3338e40d98956fe0f8f274418",
       "version_major": 2,
       "version_minor": 0
      },
      "text/plain": [
       "dev/mkd_Cyrl.parquet:   0%|          | 0.00/148k [00:00<?, ?B/s]"
      ]
     },
     "metadata": {},
     "output_type": "display_data"
    },
    {
     "data": {
      "application/vnd.jupyter.widget-view+json": {
       "model_id": "fcc42041b0174f0387d5399a2390387e",
       "version_major": 2,
       "version_minor": 0
      },
      "text/plain": [
       "dev/min_Latn.parquet:   0%|          | 0.00/113k [00:00<?, ?B/s]"
      ]
     },
     "metadata": {},
     "output_type": "display_data"
    },
    {
     "data": {
      "application/vnd.jupyter.widget-view+json": {
       "model_id": "83b40f24f5014910b1f23052bed3a060",
       "version_major": 2,
       "version_minor": 0
      },
      "text/plain": [
       "dev/mlt_Latn.parquet:   0%|          | 0.00/125k [00:00<?, ?B/s]"
      ]
     },
     "metadata": {},
     "output_type": "display_data"
    },
    {
     "data": {
      "application/vnd.jupyter.widget-view+json": {
       "model_id": "c171714664724a948fa772faa25b393e",
       "version_major": 2,
       "version_minor": 0
      },
      "text/plain": [
       "dev/mni_Beng.parquet:   0%|          | 0.00/163k [00:00<?, ?B/s]"
      ]
     },
     "metadata": {},
     "output_type": "display_data"
    },
    {
     "data": {
      "application/vnd.jupyter.widget-view+json": {
       "model_id": "307848eb19a04fc6bcd5e69f2e9e811f",
       "version_major": 2,
       "version_minor": 0
      },
      "text/plain": [
       "dev/mni_Mtei.parquet:   0%|          | 0.00/153k [00:00<?, ?B/s]"
      ]
     },
     "metadata": {},
     "output_type": "display_data"
    },
    {
     "data": {
      "application/vnd.jupyter.widget-view+json": {
       "model_id": "bf66080f2e1948bfaa2293d1eeb7a59a",
       "version_major": 2,
       "version_minor": 0
      },
      "text/plain": [
       "dev/mos_Latn.parquet:   0%|          | 0.00/115k [00:00<?, ?B/s]"
      ]
     },
     "metadata": {},
     "output_type": "display_data"
    },
    {
     "data": {
      "application/vnd.jupyter.widget-view+json": {
       "model_id": "cb3db9cd61c74937a13dad5702162e76",
       "version_major": 2,
       "version_minor": 0
      },
      "text/plain": [
       "dev/mya_Mymr.parquet:   0%|          | 0.00/185k [00:00<?, ?B/s]"
      ]
     },
     "metadata": {},
     "output_type": "display_data"
    },
    {
     "data": {
      "application/vnd.jupyter.widget-view+json": {
       "model_id": "cc7e985f9db74697a048ebf6c66690c7",
       "version_major": 2,
       "version_minor": 0
      },
      "text/plain": [
       "dev/myv_Cyrl.parquet:   0%|          | 0.00/151k [00:00<?, ?B/s]"
      ]
     },
     "metadata": {},
     "output_type": "display_data"
    },
    {
     "data": {
      "application/vnd.jupyter.widget-view+json": {
       "model_id": "34bae70c18ca4dec9b470a01738bc5a3",
       "version_major": 2,
       "version_minor": 0
      },
      "text/plain": [
       "dev/nno_Latn.parquet:   0%|          | 0.00/116k [00:00<?, ?B/s]"
      ]
     },
     "metadata": {},
     "output_type": "display_data"
    },
    {
     "data": {
      "application/vnd.jupyter.widget-view+json": {
       "model_id": "86351bf2b48f44a3a0a2ca53f88dc30b",
       "version_major": 2,
       "version_minor": 0
      },
      "text/plain": [
       "dev/nob_Latn.parquet:   0%|          | 0.00/112k [00:00<?, ?B/s]"
      ]
     },
     "metadata": {},
     "output_type": "display_data"
    },
    {
     "data": {
      "application/vnd.jupyter.widget-view+json": {
       "model_id": "01fa8462422e4896af44a67bf641499b",
       "version_major": 2,
       "version_minor": 0
      },
      "text/plain": [
       "dev/nld_Latn.parquet:   0%|          | 0.00/121k [00:00<?, ?B/s]"
      ]
     },
     "metadata": {},
     "output_type": "display_data"
    },
    {
     "data": {
      "application/vnd.jupyter.widget-view+json": {
       "model_id": "8cf9b481c97f4df29f3ca44c8b7dc4ec",
       "version_major": 2,
       "version_minor": 0
      },
      "text/plain": [
       "dev/mri_Latn.parquet:   0%|          | 0.00/113k [00:00<?, ?B/s]"
      ]
     },
     "metadata": {},
     "output_type": "display_data"
    },
    {
     "data": {
      "application/vnd.jupyter.widget-view+json": {
       "model_id": "e91e0686a824419a8e3d2d377e0642b3",
       "version_major": 2,
       "version_minor": 0
      },
      "text/plain": [
       "dev/npi_Deva.parquet:   0%|          | 0.00/161k [00:00<?, ?B/s]"
      ]
     },
     "metadata": {},
     "output_type": "display_data"
    },
    {
     "data": {
      "application/vnd.jupyter.widget-view+json": {
       "model_id": "413b8e55a12a496296852a53db81e837",
       "version_major": 2,
       "version_minor": 0
      },
      "text/plain": [
       "dev/nqo_Nkoo.parquet:   0%|          | 0.00/161k [00:00<?, ?B/s]"
      ]
     },
     "metadata": {},
     "output_type": "display_data"
    },
    {
     "data": {
      "application/vnd.jupyter.widget-view+json": {
       "model_id": "7a74ce33e09c47018a1aa85ab2caaffd",
       "version_major": 2,
       "version_minor": 0
      },
      "text/plain": [
       "dev/nso_Latn.parquet:   0%|          | 0.00/119k [00:00<?, ?B/s]"
      ]
     },
     "metadata": {},
     "output_type": "display_data"
    },
    {
     "data": {
      "application/vnd.jupyter.widget-view+json": {
       "model_id": "f517798920c34f548d4070f8905b3d41",
       "version_major": 2,
       "version_minor": 0
      },
      "text/plain": [
       "dev/nus_Latn.parquet:   0%|          | 0.00/124k [00:00<?, ?B/s]"
      ]
     },
     "metadata": {},
     "output_type": "display_data"
    },
    {
     "data": {
      "application/vnd.jupyter.widget-view+json": {
       "model_id": "d9194d503d1c4f448a48b83ca1e37ce9",
       "version_major": 2,
       "version_minor": 0
      },
      "text/plain": [
       "dev/nya_Latn.parquet:   0%|          | 0.00/117k [00:00<?, ?B/s]"
      ]
     },
     "metadata": {},
     "output_type": "display_data"
    },
    {
     "data": {
      "application/vnd.jupyter.widget-view+json": {
       "model_id": "d4c8a0d47e444c649c85ce4928fd7b4a",
       "version_major": 2,
       "version_minor": 0
      },
      "text/plain": [
       "dev/oci_Latn.parquet:   0%|          | 0.00/125k [00:00<?, ?B/s]"
      ]
     },
     "metadata": {},
     "output_type": "display_data"
    },
    {
     "data": {
      "application/vnd.jupyter.widget-view+json": {
       "model_id": "81ad0b32ac2f4f8ba16328f86725cc4e",
       "version_major": 2,
       "version_minor": 0
      },
      "text/plain": [
       "dev/oci_Latn_aran1260.parquet:   0%|          | 0.00/128k [00:00<?, ?B/s]"
      ]
     },
     "metadata": {},
     "output_type": "display_data"
    },
    {
     "data": {
      "application/vnd.jupyter.widget-view+json": {
       "model_id": "a80a97324faa44e9824020498802c89d",
       "version_major": 2,
       "version_minor": 0
      },
      "text/plain": [
       "dev/pap_Latn.parquet:   0%|          | 0.00/116k [00:00<?, ?B/s]"
      ]
     },
     "metadata": {},
     "output_type": "display_data"
    },
    {
     "data": {
      "application/vnd.jupyter.widget-view+json": {
       "model_id": "ac6a97f54060498f83524026e09b0038",
       "version_major": 2,
       "version_minor": 0
      },
      "text/plain": [
       "dev/pag_Latn.parquet:   0%|          | 0.00/111k [00:00<?, ?B/s]"
      ]
     },
     "metadata": {},
     "output_type": "display_data"
    },
    {
     "data": {
      "application/vnd.jupyter.widget-view+json": {
       "model_id": "013cae7a38394d328b6d1113758bedc4",
       "version_major": 2,
       "version_minor": 0
      },
      "text/plain": [
       "dev/pbt_Arab.parquet:   0%|          | 0.00/145k [00:00<?, ?B/s]"
      ]
     },
     "metadata": {},
     "output_type": "display_data"
    },
    {
     "data": {
      "application/vnd.jupyter.widget-view+json": {
       "model_id": "c5899a603d4e4095b2f1b575b6865d9f",
       "version_major": 2,
       "version_minor": 0
      },
      "text/plain": [
       "dev/ory_Orya.parquet:   0%|          | 0.00/169k [00:00<?, ?B/s]"
      ]
     },
     "metadata": {},
     "output_type": "display_data"
    },
    {
     "data": {
      "application/vnd.jupyter.widget-view+json": {
       "model_id": "b39681e7b5a14b58a343f4a1c9b9258f",
       "version_major": 2,
       "version_minor": 0
      },
      "text/plain": [
       "dev/pan_Guru.parquet:   0%|          | 0.00/165k [00:00<?, ?B/s]"
      ]
     },
     "metadata": {},
     "output_type": "display_data"
    },
    {
     "data": {
      "application/vnd.jupyter.widget-view+json": {
       "model_id": "d57d194738a14544a254fb389f5a5456",
       "version_major": 2,
       "version_minor": 0
      },
      "text/plain": [
       "dev/pes_Arab.parquet:   0%|          | 0.00/140k [00:00<?, ?B/s]"
      ]
     },
     "metadata": {},
     "output_type": "display_data"
    },
    {
     "data": {
      "application/vnd.jupyter.widget-view+json": {
       "model_id": "e81bbdeee19e4d8e8bbab2386c161052",
       "version_major": 2,
       "version_minor": 0
      },
      "text/plain": [
       "dev/prs_Arab.parquet:   0%|          | 0.00/135k [00:00<?, ?B/s]"
      ]
     },
     "metadata": {},
     "output_type": "display_data"
    },
    {
     "data": {
      "application/vnd.jupyter.widget-view+json": {
       "model_id": "56b4ffe1632346dda3b52f0ef3ed42bf",
       "version_major": 2,
       "version_minor": 0
      },
      "text/plain": [
       "dev/plt_Latn.parquet:   0%|          | 0.00/120k [00:00<?, ?B/s]"
      ]
     },
     "metadata": {},
     "output_type": "display_data"
    },
    {
     "data": {
      "application/vnd.jupyter.widget-view+json": {
       "model_id": "d69cad15f63d48cbb8d51744db81f49d",
       "version_major": 2,
       "version_minor": 0
      },
      "text/plain": [
       "dev/pol_Latn.parquet:   0%|          | 0.00/129k [00:00<?, ?B/s]"
      ]
     },
     "metadata": {},
     "output_type": "display_data"
    },
    {
     "data": {
      "application/vnd.jupyter.widget-view+json": {
       "model_id": "2b6f26c7d3bd441c947ad61550eab9f6",
       "version_major": 2,
       "version_minor": 0
      },
      "text/plain": [
       "dev/por_Latn.parquet:   0%|          | 0.00/122k [00:00<?, ?B/s]"
      ]
     },
     "metadata": {},
     "output_type": "display_data"
    },
    {
     "data": {
      "application/vnd.jupyter.widget-view+json": {
       "model_id": "3a09603cc8484dfe8d0cf6238085d6fd",
       "version_major": 2,
       "version_minor": 0
      },
      "text/plain": [
       "dev/quy_Latn.parquet:   0%|          | 0.00/114k [00:00<?, ?B/s]"
      ]
     },
     "metadata": {},
     "output_type": "display_data"
    },
    {
     "data": {
      "application/vnd.jupyter.widget-view+json": {
       "model_id": "498ba52f6da24f4d862f617e0b7ed722",
       "version_major": 2,
       "version_minor": 0
      },
      "text/plain": [
       "dev/ron_Latn.parquet:   0%|          | 0.00/127k [00:00<?, ?B/s]"
      ]
     },
     "metadata": {},
     "output_type": "display_data"
    },
    {
     "data": {
      "application/vnd.jupyter.widget-view+json": {
       "model_id": "119946620f3b47fba3bbe475c5a6f8f1",
       "version_major": 2,
       "version_minor": 0
      },
      "text/plain": [
       "dev/san_Deva.parquet:   0%|          | 0.00/165k [00:00<?, ?B/s]"
      ]
     },
     "metadata": {},
     "output_type": "display_data"
    },
    {
     "data": {
      "application/vnd.jupyter.widget-view+json": {
       "model_id": "9f2802ff6d7d4179b4f130a3a112bebd",
       "version_major": 2,
       "version_minor": 0
      },
      "text/plain": [
       "dev/sag_Latn.parquet:   0%|          | 0.00/107k [00:00<?, ?B/s]"
      ]
     },
     "metadata": {},
     "output_type": "display_data"
    },
    {
     "data": {
      "application/vnd.jupyter.widget-view+json": {
       "model_id": "41af33a07fb749f6a0c68c513008b59a",
       "version_major": 2,
       "version_minor": 0
      },
      "text/plain": [
       "dev/rus_Cyrl.parquet:   0%|          | 0.00/163k [00:00<?, ?B/s]"
      ]
     },
     "metadata": {},
     "output_type": "display_data"
    },
    {
     "data": {
      "application/vnd.jupyter.widget-view+json": {
       "model_id": "71cf4414c9004442abaf3ae78d6b1bb9",
       "version_major": 2,
       "version_minor": 0
      },
      "text/plain": [
       "dev/run_Latn.parquet:   0%|          | 0.00/121k [00:00<?, ?B/s]"
      ]
     },
     "metadata": {},
     "output_type": "display_data"
    },
    {
     "data": {
      "application/vnd.jupyter.widget-view+json": {
       "model_id": "0d1bdc070f3a4273ab13148354c97929",
       "version_major": 2,
       "version_minor": 0
      },
      "text/plain": [
       "dev/slv_Latn.parquet:   0%|          | 0.00/119k [00:00<?, ?B/s]"
      ]
     },
     "metadata": {},
     "output_type": "display_data"
    },
    {
     "data": {
      "application/vnd.jupyter.widget-view+json": {
       "model_id": "42ab925a8e1e49639ca968d9a603458e",
       "version_major": 2,
       "version_minor": 0
      },
      "text/plain": [
       "dev/slk_Latn.parquet:   0%|          | 0.00/128k [00:00<?, ?B/s]"
      ]
     },
     "metadata": {},
     "output_type": "display_data"
    },
    {
     "data": {
      "application/vnd.jupyter.widget-view+json": {
       "model_id": "4a85ddf678bc4b81921a5908909c51a4",
       "version_major": 2,
       "version_minor": 0
      },
      "text/plain": [
       "dev/sin_Sinh.parquet:   0%|          | 0.00/174k [00:00<?, ?B/s]"
      ]
     },
     "metadata": {},
     "output_type": "display_data"
    },
    {
     "data": {
      "application/vnd.jupyter.widget-view+json": {
       "model_id": "9c99a70054e449c2845baa7ce0427eeb",
       "version_major": 2,
       "version_minor": 0
      },
      "text/plain": [
       "dev/scn_Latn.parquet:   0%|          | 0.00/122k [00:00<?, ?B/s]"
      ]
     },
     "metadata": {},
     "output_type": "display_data"
    },
    {
     "data": {
      "application/vnd.jupyter.widget-view+json": {
       "model_id": "eb1bc9e8d0bf4eba9795aaa0e063907c",
       "version_major": 2,
       "version_minor": 0
      },
      "text/plain": [
       "dev/smo_Latn.parquet:   0%|          | 0.00/117k [00:00<?, ?B/s]"
      ]
     },
     "metadata": {},
     "output_type": "display_data"
    },
    {
     "data": {
      "application/vnd.jupyter.widget-view+json": {
       "model_id": "1a743de072e24ad6b5b53b8796e9bb5c",
       "version_major": 2,
       "version_minor": 0
      },
      "text/plain": [
       "dev/shn_Mymr.parquet:   0%|          | 0.00/213k [00:00<?, ?B/s]"
      ]
     },
     "metadata": {},
     "output_type": "display_data"
    },
    {
     "data": {
      "application/vnd.jupyter.widget-view+json": {
       "model_id": "80255c7a841043a999e061efa6b9479b",
       "version_major": 2,
       "version_minor": 0
      },
      "text/plain": [
       "dev/sat_Olck.parquet:   0%|          | 0.00/164k [00:00<?, ?B/s]"
      ]
     },
     "metadata": {},
     "output_type": "display_data"
    },
    {
     "data": {
      "application/vnd.jupyter.widget-view+json": {
       "model_id": "f8df980d93944ac68fb6d5c50442e047",
       "version_major": 2,
       "version_minor": 0
      },
      "text/plain": [
       "dev/sot_Latn.parquet:   0%|          | 0.00/121k [00:00<?, ?B/s]"
      ]
     },
     "metadata": {},
     "output_type": "display_data"
    },
    {
     "data": {
      "application/vnd.jupyter.widget-view+json": {
       "model_id": "46559a82c3bd4a629b2ecb238c52cc17",
       "version_major": 2,
       "version_minor": 0
      },
      "text/plain": [
       "dev/snd_Arab.parquet:   0%|          | 0.00/134k [00:00<?, ?B/s]"
      ]
     },
     "metadata": {},
     "output_type": "display_data"
    },
    {
     "data": {
      "application/vnd.jupyter.widget-view+json": {
       "model_id": "3a9edae385204e14b254b47c5c306ff9",
       "version_major": 2,
       "version_minor": 0
      },
      "text/plain": [
       "dev/spa_Latn.parquet:   0%|          | 0.00/129k [00:00<?, ?B/s]"
      ]
     },
     "metadata": {},
     "output_type": "display_data"
    },
    {
     "data": {
      "application/vnd.jupyter.widget-view+json": {
       "model_id": "cd0f79e4315641b7a01e4a49b53efe64",
       "version_major": 2,
       "version_minor": 0
      },
      "text/plain": [
       "dev/sna_Latn.parquet:   0%|          | 0.00/119k [00:00<?, ?B/s]"
      ]
     },
     "metadata": {},
     "output_type": "display_data"
    },
    {
     "data": {
      "application/vnd.jupyter.widget-view+json": {
       "model_id": "21d5fe6714514024bad7c676d68dafd1",
       "version_major": 2,
       "version_minor": 0
      },
      "text/plain": [
       "dev/snd_Deva.parquet:   0%|          | 0.00/168k [00:00<?, ?B/s]"
      ]
     },
     "metadata": {},
     "output_type": "display_data"
    },
    {
     "data": {
      "application/vnd.jupyter.widget-view+json": {
       "model_id": "3cf0bc175ed04d458c250020f4dd1e99",
       "version_major": 2,
       "version_minor": 0
      },
      "text/plain": [
       "dev/som_Latn.parquet:   0%|          | 0.00/126k [00:00<?, ?B/s]"
      ]
     },
     "metadata": {},
     "output_type": "display_data"
    },
    {
     "data": {
      "application/vnd.jupyter.widget-view+json": {
       "model_id": "bdd2c05092b64e71a846943fbb11712f",
       "version_major": 2,
       "version_minor": 0
      },
      "text/plain": [
       "dev/srp_Cyrl.parquet:   0%|          | 0.00/148k [00:00<?, ?B/s]"
      ]
     },
     "metadata": {},
     "output_type": "display_data"
    },
    {
     "data": {
      "application/vnd.jupyter.widget-view+json": {
       "model_id": "7fe5e0c354bd47c4a8d9ec06207ada54",
       "version_major": 2,
       "version_minor": 0
      },
      "text/plain": [
       "dev/srd_Latn.parquet:   0%|          | 0.00/123k [00:00<?, ?B/s]"
      ]
     },
     "metadata": {},
     "output_type": "display_data"
    },
    {
     "data": {
      "application/vnd.jupyter.widget-view+json": {
       "model_id": "30a37a60eb584ec6b423d313492a6a9a",
       "version_major": 2,
       "version_minor": 0
      },
      "text/plain": [
       "dev/tam_Taml.parquet:   0%|          | 0.00/178k [00:00<?, ?B/s]"
      ]
     },
     "metadata": {},
     "output_type": "display_data"
    },
    {
     "data": {
      "application/vnd.jupyter.widget-view+json": {
       "model_id": "871e6de18424404db0f43b02fe29ffbb",
       "version_major": 2,
       "version_minor": 0
      },
      "text/plain": [
       "dev/swe_Latn.parquet:   0%|          | 0.00/117k [00:00<?, ?B/s]"
      ]
     },
     "metadata": {},
     "output_type": "display_data"
    },
    {
     "data": {
      "application/vnd.jupyter.widget-view+json": {
       "model_id": "15d8a2e51e3540b9bb14996f01182aff",
       "version_major": 2,
       "version_minor": 0
      },
      "text/plain": [
       "dev/szl_Latn.parquet:   0%|          | 0.00/126k [00:00<?, ?B/s]"
      ]
     },
     "metadata": {},
     "output_type": "display_data"
    },
    {
     "data": {
      "application/vnd.jupyter.widget-view+json": {
       "model_id": "0499ec5c91a9463399018792a77194eb",
       "version_major": 2,
       "version_minor": 0
      },
      "text/plain": [
       "dev/taq_Latn.parquet:   0%|          | 0.00/116k [00:00<?, ?B/s]"
      ]
     },
     "metadata": {},
     "output_type": "display_data"
    },
    {
     "data": {
      "application/vnd.jupyter.widget-view+json": {
       "model_id": "f553c7367b0d459dbaa96185f2744290",
       "version_major": 2,
       "version_minor": 0
      },
      "text/plain": [
       "dev/ssw_Latn.parquet:   0%|          | 0.00/121k [00:00<?, ?B/s]"
      ]
     },
     "metadata": {},
     "output_type": "display_data"
    },
    {
     "data": {
      "application/vnd.jupyter.widget-view+json": {
       "model_id": "75affebcede742f3a46c7d0bb1c491af",
       "version_major": 2,
       "version_minor": 0
      },
      "text/plain": [
       "dev/sun_Latn.parquet:   0%|          | 0.00/116k [00:00<?, ?B/s]"
      ]
     },
     "metadata": {},
     "output_type": "display_data"
    },
    {
     "data": {
      "application/vnd.jupyter.widget-view+json": {
       "model_id": "13f41f8fa22640768ce9a929434d4e66",
       "version_major": 2,
       "version_minor": 0
      },
      "text/plain": [
       "dev/swh_Latn.parquet:   0%|          | 0.00/113k [00:00<?, ?B/s]"
      ]
     },
     "metadata": {},
     "output_type": "display_data"
    },
    {
     "data": {
      "application/vnd.jupyter.widget-view+json": {
       "model_id": "a04e7e637b79471cbe127a03ccafc955",
       "version_major": 2,
       "version_minor": 0
      },
      "text/plain": [
       "dev/tat_Cyrl.parquet:   0%|          | 0.00/149k [00:00<?, ?B/s]"
      ]
     },
     "metadata": {},
     "output_type": "display_data"
    },
    {
     "data": {
      "application/vnd.jupyter.widget-view+json": {
       "model_id": "cfacba3ed2a0425a97c0ed3aaf193b8f",
       "version_major": 2,
       "version_minor": 0
      },
      "text/plain": [
       "dev/taq_Tfng.parquet:   0%|          | 0.00/154k [00:00<?, ?B/s]"
      ]
     },
     "metadata": {},
     "output_type": "display_data"
    },
    {
     "data": {
      "application/vnd.jupyter.widget-view+json": {
       "model_id": "7beeecd156ee4e46bbb92a7ccecb0bba",
       "version_major": 2,
       "version_minor": 0
      },
      "text/plain": [
       "dev/tel_Telu.parquet:   0%|          | 0.00/171k [00:00<?, ?B/s]"
      ]
     },
     "metadata": {},
     "output_type": "display_data"
    },
    {
     "data": {
      "application/vnd.jupyter.widget-view+json": {
       "model_id": "00470ca75a224fe29fb90fa052053bb8",
       "version_major": 2,
       "version_minor": 0
      },
      "text/plain": [
       "dev/tha_Thai.parquet:   0%|          | 0.00/173k [00:00<?, ?B/s]"
      ]
     },
     "metadata": {},
     "output_type": "display_data"
    },
    {
     "data": {
      "application/vnd.jupyter.widget-view+json": {
       "model_id": "d32d5a457b1649c7ba40618f06a2906a",
       "version_major": 2,
       "version_minor": 0
      },
      "text/plain": [
       "dev/tgk_Cyrl.parquet:   0%|          | 0.00/157k [00:00<?, ?B/s]"
      ]
     },
     "metadata": {},
     "output_type": "display_data"
    },
    {
     "data": {
      "application/vnd.jupyter.widget-view+json": {
       "model_id": "300b3eb3bd7d4902abe8e67a09ed90a1",
       "version_major": 2,
       "version_minor": 0
      },
      "text/plain": [
       "dev/tuk_Latn.parquet:   0%|          | 0.00/123k [00:00<?, ?B/s]"
      ]
     },
     "metadata": {},
     "output_type": "display_data"
    },
    {
     "data": {
      "application/vnd.jupyter.widget-view+json": {
       "model_id": "80fc67bea5d946218d5d13f48d49a09d",
       "version_major": 2,
       "version_minor": 0
      },
      "text/plain": [
       "dev/tsn_Latn.parquet:   0%|          | 0.00/126k [00:00<?, ?B/s]"
      ]
     },
     "metadata": {},
     "output_type": "display_data"
    },
    {
     "data": {
      "application/vnd.jupyter.widget-view+json": {
       "model_id": "e00157d1dce1446292c69a91370168a8",
       "version_major": 2,
       "version_minor": 0
      },
      "text/plain": [
       "dev/tir_Ethi.parquet:   0%|          | 0.00/149k [00:00<?, ?B/s]"
      ]
     },
     "metadata": {},
     "output_type": "display_data"
    },
    {
     "data": {
      "application/vnd.jupyter.widget-view+json": {
       "model_id": "ff5ecf9f5894437c9edaefb4210b4a44",
       "version_major": 2,
       "version_minor": 0
      },
      "text/plain": [
       "dev/tpi_Latn.parquet:   0%|          | 0.00/113k [00:00<?, ?B/s]"
      ]
     },
     "metadata": {},
     "output_type": "display_data"
    },
    {
     "data": {
      "application/vnd.jupyter.widget-view+json": {
       "model_id": "dc586c3554ff444792de56d03ce41abb",
       "version_major": 2,
       "version_minor": 0
      },
      "text/plain": [
       "dev/tso_Latn.parquet:   0%|          | 0.00/120k [00:00<?, ?B/s]"
      ]
     },
     "metadata": {},
     "output_type": "display_data"
    },
    {
     "data": {
      "application/vnd.jupyter.widget-view+json": {
       "model_id": "6f523f158aa747c48b00899af3d05d2d",
       "version_major": 2,
       "version_minor": 0
      },
      "text/plain": [
       "dev/tum_Latn.parquet:   0%|          | 0.00/125k [00:00<?, ?B/s]"
      ]
     },
     "metadata": {},
     "output_type": "display_data"
    },
    {
     "data": {
      "application/vnd.jupyter.widget-view+json": {
       "model_id": "7d6b504b5e1f4f02a43dd15981c98732",
       "version_major": 2,
       "version_minor": 0
      },
      "text/plain": [
       "dev/umb_Latn.parquet:   0%|          | 0.00/110k [00:00<?, ?B/s]"
      ]
     },
     "metadata": {},
     "output_type": "display_data"
    },
    {
     "data": {
      "application/vnd.jupyter.widget-view+json": {
       "model_id": "c09410a232064d829f8e557fe3476229",
       "version_major": 2,
       "version_minor": 0
      },
      "text/plain": [
       "dev/tur_Latn.parquet:   0%|          | 0.00/122k [00:00<?, ?B/s]"
      ]
     },
     "metadata": {},
     "output_type": "display_data"
    },
    {
     "data": {
      "application/vnd.jupyter.widget-view+json": {
       "model_id": "37a0cd47b9fb418b8786b773fe297909",
       "version_major": 2,
       "version_minor": 0
      },
      "text/plain": [
       "dev/twi_Latn_asan1239.parquet:   0%|          | 0.00/114k [00:00<?, ?B/s]"
      ]
     },
     "metadata": {},
     "output_type": "display_data"
    },
    {
     "data": {
      "application/vnd.jupyter.widget-view+json": {
       "model_id": "3567b8efb9374e1ab6fe3b443f806fbc",
       "version_major": 2,
       "version_minor": 0
      },
      "text/plain": [
       "dev/twi_Latn_akua1239.parquet:   0%|          | 0.00/111k [00:00<?, ?B/s]"
      ]
     },
     "metadata": {},
     "output_type": "display_data"
    },
    {
     "data": {
      "application/vnd.jupyter.widget-view+json": {
       "model_id": "ecf3595a9b3c422da8316d001cbbedad",
       "version_major": 2,
       "version_minor": 0
      },
      "text/plain": [
       "dev/ukr_Cyrl.parquet:   0%|          | 0.00/157k [00:00<?, ?B/s]"
      ]
     },
     "metadata": {},
     "output_type": "display_data"
    },
    {
     "data": {
      "application/vnd.jupyter.widget-view+json": {
       "model_id": "253815d2e44745b7a56e23999bf38461",
       "version_major": 2,
       "version_minor": 0
      },
      "text/plain": [
       "dev/uig_Arab.parquet:   0%|          | 0.00/150k [00:00<?, ?B/s]"
      ]
     },
     "metadata": {},
     "output_type": "display_data"
    },
    {
     "data": {
      "application/vnd.jupyter.widget-view+json": {
       "model_id": "b2fd45d346404617ad046b21fea30311",
       "version_major": 2,
       "version_minor": 0
      },
      "text/plain": [
       "dev/tyv_Cyrl.parquet:   0%|          | 0.00/160k [00:00<?, ?B/s]"
      ]
     },
     "metadata": {},
     "output_type": "display_data"
    },
    {
     "data": {
      "application/vnd.jupyter.widget-view+json": {
       "model_id": "7f8a1fbe7de24d69846a2eefffd1a0b3",
       "version_major": 2,
       "version_minor": 0
      },
      "text/plain": [
       "dev/urd_Arab.parquet:   0%|          | 0.00/146k [00:00<?, ?B/s]"
      ]
     },
     "metadata": {},
     "output_type": "display_data"
    },
    {
     "data": {
      "application/vnd.jupyter.widget-view+json": {
       "model_id": "845086ae57f0463680cbf218cc8275fd",
       "version_major": 2,
       "version_minor": 0
      },
      "text/plain": [
       "dev/vec_Latn.parquet:   0%|          | 0.00/118k [00:00<?, ?B/s]"
      ]
     },
     "metadata": {},
     "output_type": "display_data"
    },
    {
     "data": {
      "application/vnd.jupyter.widget-view+json": {
       "model_id": "9e7472848ba842deada323ba8d853283",
       "version_major": 2,
       "version_minor": 0
      },
      "text/plain": [
       "dev/uzn_Latn.parquet:   0%|          | 0.00/121k [00:00<?, ?B/s]"
      ]
     },
     "metadata": {},
     "output_type": "display_data"
    },
    {
     "data": {
      "application/vnd.jupyter.widget-view+json": {
       "model_id": "64155cc967e244529f5f84c3a18a1676",
       "version_major": 2,
       "version_minor": 0
      },
      "text/plain": [
       "dev/wol_Latn.parquet:   0%|          | 0.00/117k [00:00<?, ?B/s]"
      ]
     },
     "metadata": {},
     "output_type": "display_data"
    },
    {
     "data": {
      "application/vnd.jupyter.widget-view+json": {
       "model_id": "f2049dadf0d64e84837e132bd6b7a7d6",
       "version_major": 2,
       "version_minor": 0
      },
      "text/plain": [
       "dev/wuu_Hans.parquet:   0%|          | 0.00/114k [00:00<?, ?B/s]"
      ]
     },
     "metadata": {},
     "output_type": "display_data"
    },
    {
     "data": {
      "application/vnd.jupyter.widget-view+json": {
       "model_id": "033490d7f0f34ee780835e05a276782c",
       "version_major": 2,
       "version_minor": 0
      },
      "text/plain": [
       "dev/war_Latn.parquet:   0%|          | 0.00/122k [00:00<?, ?B/s]"
      ]
     },
     "metadata": {},
     "output_type": "display_data"
    },
    {
     "data": {
      "application/vnd.jupyter.widget-view+json": {
       "model_id": "11226b3e5bcb4457adf97c3eac9114ef",
       "version_major": 2,
       "version_minor": 0
      },
      "text/plain": [
       "dev/xho_Latn.parquet:   0%|          | 0.00/121k [00:00<?, ?B/s]"
      ]
     },
     "metadata": {},
     "output_type": "display_data"
    },
    {
     "data": {
      "application/vnd.jupyter.widget-view+json": {
       "model_id": "c193869fd51e45c886f19b5405a9ac82",
       "version_major": 2,
       "version_minor": 0
      },
      "text/plain": [
       "dev/vie_Latn.parquet:   0%|          | 0.00/128k [00:00<?, ?B/s]"
      ]
     },
     "metadata": {},
     "output_type": "display_data"
    },
    {
     "data": {
      "application/vnd.jupyter.widget-view+json": {
       "model_id": "99073c4933d24109a26c7c4805e3dc18",
       "version_major": 2,
       "version_minor": 0
      },
      "text/plain": [
       "dev/vmw_Latn.parquet:   0%|          | 0.00/121k [00:00<?, ?B/s]"
      ]
     },
     "metadata": {},
     "output_type": "display_data"
    },
    {
     "data": {
      "application/vnd.jupyter.widget-view+json": {
       "model_id": "199a49b9fc2e4f8d9787eb50102cd5be",
       "version_major": 2,
       "version_minor": 0
      },
      "text/plain": [
       "dev/ydd_Hebr.parquet:   0%|          | 0.00/148k [00:00<?, ?B/s]"
      ]
     },
     "metadata": {},
     "output_type": "display_data"
    },
    {
     "data": {
      "application/vnd.jupyter.widget-view+json": {
       "model_id": "32a648bfc51540bfa654e880f77a10c1",
       "version_major": 2,
       "version_minor": 0
      },
      "text/plain": [
       "dev/yor_Latn.parquet:   0%|          | 0.00/132k [00:00<?, ?B/s]"
      ]
     },
     "metadata": {},
     "output_type": "display_data"
    },
    {
     "data": {
      "application/vnd.jupyter.widget-view+json": {
       "model_id": "329e38d78da74dce9bdd97c4e743fca6",
       "version_major": 2,
       "version_minor": 0
      },
      "text/plain": [
       "dev/zsm_Latn.parquet:   0%|          | 0.00/115k [00:00<?, ?B/s]"
      ]
     },
     "metadata": {},
     "output_type": "display_data"
    },
    {
     "data": {
      "application/vnd.jupyter.widget-view+json": {
       "model_id": "69586105d15a4585815fa2885b6242e6",
       "version_major": 2,
       "version_minor": 0
      },
      "text/plain": [
       "dev/yue_Hant.parquet:   0%|          | 0.00/112k [00:00<?, ?B/s]"
      ]
     },
     "metadata": {},
     "output_type": "display_data"
    },
    {
     "data": {
      "application/vnd.jupyter.widget-view+json": {
       "model_id": "a4e32a7fe6c3442dbecf2c8d80d33f02",
       "version_major": 2,
       "version_minor": 0
      },
      "text/plain": [
       "dev/zul_Latn.parquet:   0%|          | 0.00/121k [00:00<?, ?B/s]"
      ]
     },
     "metadata": {},
     "output_type": "display_data"
    },
    {
     "data": {
      "application/vnd.jupyter.widget-view+json": {
       "model_id": "87c0872e9086472da91134caa6855ca4",
       "version_major": 2,
       "version_minor": 0
      },
      "text/plain": [
       "dev/zgh_Tfng.parquet:   0%|          | 0.00/154k [00:00<?, ?B/s]"
      ]
     },
     "metadata": {},
     "output_type": "display_data"
    },
    {
     "data": {
      "application/vnd.jupyter.widget-view+json": {
       "model_id": "221e15dc82a040bbbaefb2eb5c61db24",
       "version_major": 2,
       "version_minor": 0
      },
      "text/plain": [
       "Downloading data:   0%|          | 0/214 [00:00<?, ?files/s]"
      ]
     },
     "metadata": {},
     "output_type": "display_data"
    },
    {
     "data": {
      "application/vnd.jupyter.widget-view+json": {
       "model_id": "e2235f3f7da2429eb2660a8f1e51a8e4",
       "version_major": 2,
       "version_minor": 0
      },
      "text/plain": [
       "devtest/ace_Latn.parquet:   0%|          | 0.00/118k [00:00<?, ?B/s]"
      ]
     },
     "metadata": {},
     "output_type": "display_data"
    },
    {
     "data": {
      "application/vnd.jupyter.widget-view+json": {
       "model_id": "fe22b0801542419ab72efa75b4409d08",
       "version_major": 2,
       "version_minor": 0
      },
      "text/plain": [
       "devtest/acm_Arab.parquet:   0%|          | 0.00/140k [00:00<?, ?B/s]"
      ]
     },
     "metadata": {},
     "output_type": "display_data"
    },
    {
     "data": {
      "application/vnd.jupyter.widget-view+json": {
       "model_id": "8e3f0488f5bf4557b0c1195e62cff7f9",
       "version_major": 2,
       "version_minor": 0
      },
      "text/plain": [
       "devtest/ace_Arab.parquet:   0%|          | 0.00/130k [00:00<?, ?B/s]"
      ]
     },
     "metadata": {},
     "output_type": "display_data"
    },
    {
     "data": {
      "application/vnd.jupyter.widget-view+json": {
       "model_id": "47df52851ed247e6983ea0ba517360fc",
       "version_major": 2,
       "version_minor": 0
      },
      "text/plain": [
       "devtest/acq_Arab.parquet:   0%|          | 0.00/143k [00:00<?, ?B/s]"
      ]
     },
     "metadata": {},
     "output_type": "display_data"
    },
    {
     "data": {
      "application/vnd.jupyter.widget-view+json": {
       "model_id": "4be747aee8e546758b0f49d860f223a5",
       "version_major": 2,
       "version_minor": 0
      },
      "text/plain": [
       "devtest/arg_Latn.parquet:   0%|          | 0.00/132k [00:00<?, ?B/s]"
      ]
     },
     "metadata": {},
     "output_type": "display_data"
    },
    {
     "data": {
      "application/vnd.jupyter.widget-view+json": {
       "model_id": "ca35feb5418a4693b7ab1c522e71935d",
       "version_major": 2,
       "version_minor": 0
      },
      "text/plain": [
       "devtest/aeb_Arab.parquet:   0%|          | 0.00/139k [00:00<?, ?B/s]"
      ]
     },
     "metadata": {},
     "output_type": "display_data"
    },
    {
     "data": {
      "application/vnd.jupyter.widget-view+json": {
       "model_id": "5f7a488c9acc4222a89cd1e1116f4df1",
       "version_major": 2,
       "version_minor": 0
      },
      "text/plain": [
       "devtest/amh_Ethi.parquet:   0%|          | 0.00/149k [00:00<?, ?B/s]"
      ]
     },
     "metadata": {},
     "output_type": "display_data"
    },
    {
     "data": {
      "application/vnd.jupyter.widget-view+json": {
       "model_id": "963e4503d4304dd88591545122407a0c",
       "version_major": 2,
       "version_minor": 0
      },
      "text/plain": [
       "devtest/ars_Arab.parquet:   0%|          | 0.00/144k [00:00<?, ?B/s]"
      ]
     },
     "metadata": {},
     "output_type": "display_data"
    },
    {
     "data": {
      "application/vnd.jupyter.widget-view+json": {
       "model_id": "1da6c0c4387a4fea998df1fb189f7fce",
       "version_major": 2,
       "version_minor": 0
      },
      "text/plain": [
       "devtest/apc_Arab_sout3123.parquet:   0%|          | 0.00/135k [00:00<?, ?B/s]"
      ]
     },
     "metadata": {},
     "output_type": "display_data"
    },
    {
     "data": {
      "application/vnd.jupyter.widget-view+json": {
       "model_id": "44d6581e1cff4736826714390dd225fd",
       "version_major": 2,
       "version_minor": 0
      },
      "text/plain": [
       "devtest/ary_Arab.parquet:   0%|          | 0.00/140k [00:00<?, ?B/s]"
      ]
     },
     "metadata": {},
     "output_type": "display_data"
    },
    {
     "data": {
      "application/vnd.jupyter.widget-view+json": {
       "model_id": "9e18efb227a843b6bfa1d30f88a88841",
       "version_major": 2,
       "version_minor": 0
      },
      "text/plain": [
       "devtest/apc_Arab_nort3139.parquet:   0%|          | 0.00/135k [00:00<?, ?B/s]"
      ]
     },
     "metadata": {},
     "output_type": "display_data"
    },
    {
     "data": {
      "application/vnd.jupyter.widget-view+json": {
       "model_id": "e8ff949676ba4e5293633a11a6af309b",
       "version_major": 2,
       "version_minor": 0
      },
      "text/plain": [
       "devtest/als_Latn.parquet:   0%|          | 0.00/130k [00:00<?, ?B/s]"
      ]
     },
     "metadata": {},
     "output_type": "display_data"
    },
    {
     "data": {
      "application/vnd.jupyter.widget-view+json": {
       "model_id": "89ac3281d1e949609581511a3e8b8848",
       "version_major": 2,
       "version_minor": 0
      },
      "text/plain": [
       "devtest/arz_Arab.parquet:   0%|          | 0.00/139k [00:00<?, ?B/s]"
      ]
     },
     "metadata": {},
     "output_type": "display_data"
    },
    {
     "data": {
      "application/vnd.jupyter.widget-view+json": {
       "model_id": "33f227d7d7df4398b13a8a697cb1e797",
       "version_major": 2,
       "version_minor": 0
      },
      "text/plain": [
       "devtest/arb_Latn.parquet:   0%|          | 0.00/136k [00:00<?, ?B/s]"
      ]
     },
     "metadata": {},
     "output_type": "display_data"
    },
    {
     "data": {
      "application/vnd.jupyter.widget-view+json": {
       "model_id": "dde7d3c230354353af173198fbe1d032",
       "version_major": 2,
       "version_minor": 0
      },
      "text/plain": [
       "devtest/arb_Arab.parquet:   0%|          | 0.00/143k [00:00<?, ?B/s]"
      ]
     },
     "metadata": {},
     "output_type": "display_data"
    },
    {
     "data": {
      "application/vnd.jupyter.widget-view+json": {
       "model_id": "76646f88409e44819387effc834827a5",
       "version_major": 2,
       "version_minor": 0
      },
      "text/plain": [
       "devtest/afr_Latn.parquet:   0%|          | 0.00/123k [00:00<?, ?B/s]"
      ]
     },
     "metadata": {},
     "output_type": "display_data"
    },
    {
     "data": {
      "application/vnd.jupyter.widget-view+json": {
       "model_id": "3e7a045f0a0140c3b818e1ae87a1b630",
       "version_major": 2,
       "version_minor": 0
      },
      "text/plain": [
       "devtest/asm_Beng.parquet:   0%|          | 0.00/174k [00:00<?, ?B/s]"
      ]
     },
     "metadata": {},
     "output_type": "display_data"
    },
    {
     "data": {
      "application/vnd.jupyter.widget-view+json": {
       "model_id": "f35743dadd2b42f694b96d80d141cdb1",
       "version_major": 2,
       "version_minor": 0
      },
      "text/plain": [
       "devtest/ast_Latn.parquet:   0%|          | 0.00/124k [00:00<?, ?B/s]"
      ]
     },
     "metadata": {},
     "output_type": "display_data"
    },
    {
     "data": {
      "application/vnd.jupyter.widget-view+json": {
       "model_id": "98cafb62788e4fc6804e0c1b742b48be",
       "version_major": 2,
       "version_minor": 0
      },
      "text/plain": [
       "devtest/awa_Deva.parquet:   0%|          | 0.00/165k [00:00<?, ?B/s]"
      ]
     },
     "metadata": {},
     "output_type": "display_data"
    },
    {
     "data": {
      "application/vnd.jupyter.widget-view+json": {
       "model_id": "1ce0624528434e8d861303286f637c7a",
       "version_major": 2,
       "version_minor": 0
      },
      "text/plain": [
       "devtest/ayr_Latn.parquet:   0%|          | 0.00/122k [00:00<?, ?B/s]"
      ]
     },
     "metadata": {},
     "output_type": "display_data"
    },
    {
     "data": {
      "application/vnd.jupyter.widget-view+json": {
       "model_id": "d443a8028bfe4714b9c8bde99f7fcc11",
       "version_major": 2,
       "version_minor": 0
      },
      "text/plain": [
       "devtest/bam_Latn.parquet:   0%|          | 0.00/116k [00:00<?, ?B/s]"
      ]
     },
     "metadata": {},
     "output_type": "display_data"
    },
    {
     "data": {
      "application/vnd.jupyter.widget-view+json": {
       "model_id": "b849e539937741099b336b7608aaa261",
       "version_major": 2,
       "version_minor": 0
      },
      "text/plain": [
       "devtest/azb_Arab.parquet:   0%|          | 0.00/140k [00:00<?, ?B/s]"
      ]
     },
     "metadata": {},
     "output_type": "display_data"
    },
    {
     "data": {
      "application/vnd.jupyter.widget-view+json": {
       "model_id": "1be906ddbc2a46479244fc5e008418ef",
       "version_major": 2,
       "version_minor": 0
      },
      "text/plain": [
       "devtest/bak_Cyrl.parquet:   0%|          | 0.00/155k [00:00<?, ?B/s]"
      ]
     },
     "metadata": {},
     "output_type": "display_data"
    },
    {
     "data": {
      "application/vnd.jupyter.widget-view+json": {
       "model_id": "332fca551e3f487ea3813558ea293bf5",
       "version_major": 2,
       "version_minor": 0
      },
      "text/plain": [
       "devtest/azj_Latn.parquet:   0%|          | 0.00/134k [00:00<?, ?B/s]"
      ]
     },
     "metadata": {},
     "output_type": "display_data"
    },
    {
     "data": {
      "application/vnd.jupyter.widget-view+json": {
       "model_id": "86c33f915cab47c0a51f9450f0158907",
       "version_major": 2,
       "version_minor": 0
      },
      "text/plain": [
       "devtest/ban_Latn.parquet:   0%|          | 0.00/118k [00:00<?, ?B/s]"
      ]
     },
     "metadata": {},
     "output_type": "display_data"
    },
    {
     "data": {
      "application/vnd.jupyter.widget-view+json": {
       "model_id": "9e0f14cf36ba4ecca1f164650400adfa",
       "version_major": 2,
       "version_minor": 0
      },
      "text/plain": [
       "devtest/bho_Deva.parquet:   0%|          | 0.00/163k [00:00<?, ?B/s]"
      ]
     },
     "metadata": {},
     "output_type": "display_data"
    },
    {
     "data": {
      "application/vnd.jupyter.widget-view+json": {
       "model_id": "7993415321ba46f9aede9b687191922f",
       "version_major": 2,
       "version_minor": 0
      },
      "text/plain": [
       "devtest/bem_Latn.parquet:   0%|          | 0.00/129k [00:00<?, ?B/s]"
      ]
     },
     "metadata": {},
     "output_type": "display_data"
    },
    {
     "data": {
      "application/vnd.jupyter.widget-view+json": {
       "model_id": "a36e7f91d6cf46c8af39887407c12e9a",
       "version_major": 2,
       "version_minor": 0
      },
      "text/plain": [
       "devtest/ben_Beng.parquet:   0%|          | 0.00/172k [00:00<?, ?B/s]"
      ]
     },
     "metadata": {},
     "output_type": "display_data"
    },
    {
     "data": {
      "application/vnd.jupyter.widget-view+json": {
       "model_id": "601474111a1643958d99c027458b1b4c",
       "version_major": 2,
       "version_minor": 0
      },
      "text/plain": [
       "devtest/bjn_Arab.parquet:   0%|          | 0.00/141k [00:00<?, ?B/s]"
      ]
     },
     "metadata": {},
     "output_type": "display_data"
    },
    {
     "data": {
      "application/vnd.jupyter.widget-view+json": {
       "model_id": "af74b2762fc94109878279e1d43eb316",
       "version_major": 2,
       "version_minor": 0
      },
      "text/plain": [
       "devtest/bjn_Latn.parquet:   0%|          | 0.00/116k [00:00<?, ?B/s]"
      ]
     },
     "metadata": {},
     "output_type": "display_data"
    },
    {
     "data": {
      "application/vnd.jupyter.widget-view+json": {
       "model_id": "258f89253e304753bd4e5d18b5b6917e",
       "version_major": 2,
       "version_minor": 0
      },
      "text/plain": [
       "devtest/bod_Tibt.parquet:   0%|          | 0.00/171k [00:00<?, ?B/s]"
      ]
     },
     "metadata": {},
     "output_type": "display_data"
    },
    {
     "data": {
      "application/vnd.jupyter.widget-view+json": {
       "model_id": "d7d9a19c626c4c86ad2390ec7c1eab0d",
       "version_major": 2,
       "version_minor": 0
      },
      "text/plain": [
       "devtest/bel_Cyrl.parquet:   0%|          | 0.00/173k [00:00<?, ?B/s]"
      ]
     },
     "metadata": {},
     "output_type": "display_data"
    },
    {
     "data": {
      "application/vnd.jupyter.widget-view+json": {
       "model_id": "c3d46618a33b4c009cad05e1f5cd870e",
       "version_major": 2,
       "version_minor": 0
      },
      "text/plain": [
       "devtest/bos_Latn.parquet:   0%|          | 0.00/126k [00:00<?, ?B/s]"
      ]
     },
     "metadata": {},
     "output_type": "display_data"
    },
    {
     "data": {
      "application/vnd.jupyter.widget-view+json": {
       "model_id": "12d1e87a5ed1426e93ee088777b560c1",
       "version_major": 2,
       "version_minor": 0
      },
      "text/plain": [
       "devtest/bug_Latn.parquet:   0%|          | 0.00/126k [00:00<?, ?B/s]"
      ]
     },
     "metadata": {},
     "output_type": "display_data"
    },
    {
     "data": {
      "application/vnd.jupyter.widget-view+json": {
       "model_id": "af3436e2990545c2897e1a5eecd48250",
       "version_major": 2,
       "version_minor": 0
      },
      "text/plain": [
       "devtest/bul_Cyrl.parquet:   0%|          | 0.00/157k [00:00<?, ?B/s]"
      ]
     },
     "metadata": {},
     "output_type": "display_data"
    },
    {
     "data": {
      "application/vnd.jupyter.widget-view+json": {
       "model_id": "778d6cddce534d7080d0f3520ccbc711",
       "version_major": 2,
       "version_minor": 0
      },
      "text/plain": [
       "devtest/cat_Latn.parquet:   0%|          | 0.00/128k [00:00<?, ?B/s]"
      ]
     },
     "metadata": {},
     "output_type": "display_data"
    },
    {
     "data": {
      "application/vnd.jupyter.widget-view+json": {
       "model_id": "b665173706054b4db4a21036acaec5ea",
       "version_major": 2,
       "version_minor": 0
      },
      "text/plain": [
       "devtest/cat_Latn_vale1252.parquet:   0%|          | 0.00/129k [00:00<?, ?B/s]"
      ]
     },
     "metadata": {},
     "output_type": "display_data"
    },
    {
     "data": {
      "application/vnd.jupyter.widget-view+json": {
       "model_id": "009d6754eb54471281c5553b24b66dbb",
       "version_major": 2,
       "version_minor": 0
      },
      "text/plain": [
       "devtest/ceb_Latn.parquet:   0%|          | 0.00/126k [00:00<?, ?B/s]"
      ]
     },
     "metadata": {},
     "output_type": "display_data"
    },
    {
     "data": {
      "application/vnd.jupyter.widget-view+json": {
       "model_id": "a3ee8b2f4fd94428a77cfb803a0d398d",
       "version_major": 2,
       "version_minor": 0
      },
      "text/plain": [
       "devtest/chv_Cyrl.parquet:   0%|          | 0.00/152k [00:00<?, ?B/s]"
      ]
     },
     "metadata": {},
     "output_type": "display_data"
    },
    {
     "data": {
      "application/vnd.jupyter.widget-view+json": {
       "model_id": "cfbe50385e8d4f01864302554746ead3",
       "version_major": 2,
       "version_minor": 0
      },
      "text/plain": [
       "devtest/ces_Latn.parquet:   0%|          | 0.00/131k [00:00<?, ?B/s]"
      ]
     },
     "metadata": {},
     "output_type": "display_data"
    },
    {
     "data": {
      "application/vnd.jupyter.widget-view+json": {
       "model_id": "20d9a4a761594befb03a1403e2e3674a",
       "version_major": 2,
       "version_minor": 0
      },
      "text/plain": [
       "devtest/cjk_Latn.parquet:   0%|          | 0.00/125k [00:00<?, ?B/s]"
      ]
     },
     "metadata": {},
     "output_type": "display_data"
    },
    {
     "data": {
      "application/vnd.jupyter.widget-view+json": {
       "model_id": "e70e03dff6304aee85b09c63bc9df483",
       "version_major": 2,
       "version_minor": 0
      },
      "text/plain": [
       "devtest/ckb_Arab.parquet:   0%|          | 0.00/150k [00:00<?, ?B/s]"
      ]
     },
     "metadata": {},
     "output_type": "display_data"
    },
    {
     "data": {
      "application/vnd.jupyter.widget-view+json": {
       "model_id": "79ea989498a943c48004fa11f36beb61",
       "version_major": 2,
       "version_minor": 0
      },
      "text/plain": [
       "devtest/cmn_Hans.parquet:   0%|          | 0.00/120k [00:00<?, ?B/s]"
      ]
     },
     "metadata": {},
     "output_type": "display_data"
    },
    {
     "data": {
      "application/vnd.jupyter.widget-view+json": {
       "model_id": "6370b93cf6d041aab38f9aa947619078",
       "version_major": 2,
       "version_minor": 0
      },
      "text/plain": [
       "devtest/cmn_Hant.parquet:   0%|          | 0.00/119k [00:00<?, ?B/s]"
      ]
     },
     "metadata": {},
     "output_type": "display_data"
    },
    {
     "data": {
      "application/vnd.jupyter.widget-view+json": {
       "model_id": "0a3689f7a1794fa684b4298234706723",
       "version_major": 2,
       "version_minor": 0
      },
      "text/plain": [
       "devtest/dan_Latn.parquet:   0%|          | 0.00/122k [00:00<?, ?B/s]"
      ]
     },
     "metadata": {},
     "output_type": "display_data"
    },
    {
     "data": {
      "application/vnd.jupyter.widget-view+json": {
       "model_id": "03c14e72ba7f43be848ec910ef0e1329",
       "version_major": 2,
       "version_minor": 0
      },
      "text/plain": [
       "devtest/crh_Latn.parquet:   0%|          | 0.00/125k [00:00<?, ?B/s]"
      ]
     },
     "metadata": {},
     "output_type": "display_data"
    },
    {
     "data": {
      "application/vnd.jupyter.widget-view+json": {
       "model_id": "248450ca6b5d4359ab6076713d7e9941",
       "version_major": 2,
       "version_minor": 0
      },
      "text/plain": [
       "devtest/cym_Latn.parquet:   0%|          | 0.00/123k [00:00<?, ?B/s]"
      ]
     },
     "metadata": {},
     "output_type": "display_data"
    },
    {
     "data": {
      "application/vnd.jupyter.widget-view+json": {
       "model_id": "8e5b7c07eb3c4d198e1ffbf51dd7b907",
       "version_major": 2,
       "version_minor": 0
      },
      "text/plain": [
       "devtest/deu_Latn.parquet:   0%|          | 0.00/133k [00:00<?, ?B/s]"
      ]
     },
     "metadata": {},
     "output_type": "display_data"
    },
    {
     "data": {
      "application/vnd.jupyter.widget-view+json": {
       "model_id": "c8668e6784a646ff8b2beff1c41c85f4",
       "version_major": 2,
       "version_minor": 0
      },
      "text/plain": [
       "devtest/dik_Latn.parquet:   0%|          | 0.00/110k [00:00<?, ?B/s]"
      ]
     },
     "metadata": {},
     "output_type": "display_data"
    },
    {
     "data": {
      "application/vnd.jupyter.widget-view+json": {
       "model_id": "788fc43f1fe042c18a544078222158f9",
       "version_major": 2,
       "version_minor": 0
      },
      "text/plain": [
       "devtest/dyu_Latn.parquet:   0%|          | 0.00/128k [00:00<?, ?B/s]"
      ]
     },
     "metadata": {},
     "output_type": "display_data"
    },
    {
     "data": {
      "application/vnd.jupyter.widget-view+json": {
       "model_id": "0cda41392b104a59b288b52df9b4c711",
       "version_major": 2,
       "version_minor": 0
      },
      "text/plain": [
       "devtest/dzo_Tibt.parquet:   0%|          | 0.00/183k [00:00<?, ?B/s]"
      ]
     },
     "metadata": {},
     "output_type": "display_data"
    },
    {
     "data": {
      "application/vnd.jupyter.widget-view+json": {
       "model_id": "cf0c6379cf1d44d6a53fc4fc73d48ec6",
       "version_major": 2,
       "version_minor": 0
      },
      "text/plain": [
       "devtest/ekk_Latn.parquet:   0%|          | 0.00/123k [00:00<?, ?B/s]"
      ]
     },
     "metadata": {},
     "output_type": "display_data"
    },
    {
     "data": {
      "application/vnd.jupyter.widget-view+json": {
       "model_id": "9d1fbd2d18264fa799ed5b70622a179b",
       "version_major": 2,
       "version_minor": 0
      },
      "text/plain": [
       "devtest/ell_Grek.parquet:   0%|          | 0.00/178k [00:00<?, ?B/s]"
      ]
     },
     "metadata": {},
     "output_type": "display_data"
    },
    {
     "data": {
      "application/vnd.jupyter.widget-view+json": {
       "model_id": "ea3ed0e67e8141f6a0eabe4cb802eac1",
       "version_major": 2,
       "version_minor": 0
      },
      "text/plain": [
       "devtest/eng_Latn.parquet:   0%|          | 0.00/117k [00:00<?, ?B/s]"
      ]
     },
     "metadata": {},
     "output_type": "display_data"
    },
    {
     "data": {
      "application/vnd.jupyter.widget-view+json": {
       "model_id": "0b2450e1c02d415faa42d77bd1ed4ff3",
       "version_major": 2,
       "version_minor": 0
      },
      "text/plain": [
       "devtest/epo_Latn.parquet:   0%|          | 0.00/119k [00:00<?, ?B/s]"
      ]
     },
     "metadata": {},
     "output_type": "display_data"
    },
    {
     "data": {
      "application/vnd.jupyter.widget-view+json": {
       "model_id": "10ff8c0eb1554775a16d2880904b748a",
       "version_major": 2,
       "version_minor": 0
      },
      "text/plain": [
       "devtest/ewe_Latn.parquet:   0%|          | 0.00/114k [00:00<?, ?B/s]"
      ]
     },
     "metadata": {},
     "output_type": "display_data"
    },
    {
     "data": {
      "application/vnd.jupyter.widget-view+json": {
       "model_id": "bdb445f8d6a14a1287a240455c2e3bcf",
       "version_major": 2,
       "version_minor": 0
      },
      "text/plain": [
       "devtest/eus_Latn.parquet:   0%|          | 0.00/121k [00:00<?, ?B/s]"
      ]
     },
     "metadata": {},
     "output_type": "display_data"
    },
    {
     "data": {
      "application/vnd.jupyter.widget-view+json": {
       "model_id": "c322cb12fbbb47f184ffdadbc459076a",
       "version_major": 2,
       "version_minor": 0
      },
      "text/plain": [
       "devtest/fil_Latn.parquet:   0%|          | 0.00/130k [00:00<?, ?B/s]"
      ]
     },
     "metadata": {},
     "output_type": "display_data"
    },
    {
     "data": {
      "application/vnd.jupyter.widget-view+json": {
       "model_id": "7684d6ebeb7142d786eb024b31dda93f",
       "version_major": 2,
       "version_minor": 0
      },
      "text/plain": [
       "devtest/fao_Latn.parquet:   0%|          | 0.00/124k [00:00<?, ?B/s]"
      ]
     },
     "metadata": {},
     "output_type": "display_data"
    },
    {
     "data": {
      "application/vnd.jupyter.widget-view+json": {
       "model_id": "d936e34ad7e64f4e8e06d9ec01a56fe0",
       "version_major": 2,
       "version_minor": 0
      },
      "text/plain": [
       "devtest/fij_Latn.parquet:   0%|          | 0.00/116k [00:00<?, ?B/s]"
      ]
     },
     "metadata": {},
     "output_type": "display_data"
    },
    {
     "data": {
      "application/vnd.jupyter.widget-view+json": {
       "model_id": "c1f0766786384feea6e065fe9a7f9c85",
       "version_major": 2,
       "version_minor": 0
      },
      "text/plain": [
       "devtest/fin_Latn.parquet:   0%|          | 0.00/128k [00:00<?, ?B/s]"
      ]
     },
     "metadata": {},
     "output_type": "display_data"
    },
    {
     "data": {
      "application/vnd.jupyter.widget-view+json": {
       "model_id": "17f6a70de7b9428da2388a1a268095b4",
       "version_major": 2,
       "version_minor": 0
      },
      "text/plain": [
       "devtest/fon_Latn.parquet:   0%|          | 0.00/130k [00:00<?, ?B/s]"
      ]
     },
     "metadata": {},
     "output_type": "display_data"
    },
    {
     "data": {
      "application/vnd.jupyter.widget-view+json": {
       "model_id": "a6f046c69d78458dac632aba0f296f2f",
       "version_major": 2,
       "version_minor": 0
      },
      "text/plain": [
       "devtest/fur_Latn.parquet:   0%|          | 0.00/126k [00:00<?, ?B/s]"
      ]
     },
     "metadata": {},
     "output_type": "display_data"
    },
    {
     "data": {
      "application/vnd.jupyter.widget-view+json": {
       "model_id": "e9e0fb603293416cb837372b12514d48",
       "version_major": 2,
       "version_minor": 0
      },
      "text/plain": [
       "devtest/fuv_Latn.parquet:   0%|          | 0.00/115k [00:00<?, ?B/s]"
      ]
     },
     "metadata": {},
     "output_type": "display_data"
    },
    {
     "data": {
      "application/vnd.jupyter.widget-view+json": {
       "model_id": "a2993eb4ea7945469d9a92d38316b8ca",
       "version_major": 2,
       "version_minor": 0
      },
      "text/plain": [
       "devtest/gaz_Latn.parquet:   0%|          | 0.00/130k [00:00<?, ?B/s]"
      ]
     },
     "metadata": {},
     "output_type": "display_data"
    },
    {
     "data": {
      "application/vnd.jupyter.widget-view+json": {
       "model_id": "87ee97e577ba4cff83365475bdb4d71a",
       "version_major": 2,
       "version_minor": 0
      },
      "text/plain": [
       "devtest/gla_Latn.parquet:   0%|          | 0.00/133k [00:00<?, ?B/s]"
      ]
     },
     "metadata": {},
     "output_type": "display_data"
    },
    {
     "data": {
      "application/vnd.jupyter.widget-view+json": {
       "model_id": "09910ed2fbfa406eaa5aef687c0ba473",
       "version_major": 2,
       "version_minor": 0
      },
      "text/plain": [
       "devtest/glg_Latn.parquet:   0%|          | 0.00/128k [00:00<?, ?B/s]"
      ]
     },
     "metadata": {},
     "output_type": "display_data"
    },
    {
     "data": {
      "application/vnd.jupyter.widget-view+json": {
       "model_id": "0fbd791dda8e428ca592bb92a2d5168b",
       "version_major": 2,
       "version_minor": 0
      },
      "text/plain": [
       "devtest/gle_Latn.parquet:   0%|          | 0.00/133k [00:00<?, ?B/s]"
      ]
     },
     "metadata": {},
     "output_type": "display_data"
    },
    {
     "data": {
      "application/vnd.jupyter.widget-view+json": {
       "model_id": "7ba08e0b72274ac0bcaa42785c343c61",
       "version_major": 2,
       "version_minor": 0
      },
      "text/plain": [
       "devtest/guj_Gujr.parquet:   0%|          | 0.00/170k [00:00<?, ?B/s]"
      ]
     },
     "metadata": {},
     "output_type": "display_data"
    },
    {
     "data": {
      "application/vnd.jupyter.widget-view+json": {
       "model_id": "196957ff58b94750942146714ab41a87",
       "version_major": 2,
       "version_minor": 0
      },
      "text/plain": [
       "devtest/fra_Latn.parquet:   0%|          | 0.00/134k [00:00<?, ?B/s]"
      ]
     },
     "metadata": {},
     "output_type": "display_data"
    },
    {
     "data": {
      "application/vnd.jupyter.widget-view+json": {
       "model_id": "516ebea9770c4d888ae92cd43ece31f0",
       "version_major": 2,
       "version_minor": 0
      },
      "text/plain": [
       "devtest/gug_Latn.parquet:   0%|          | 0.00/118k [00:00<?, ?B/s]"
      ]
     },
     "metadata": {},
     "output_type": "display_data"
    },
    {
     "data": {
      "application/vnd.jupyter.widget-view+json": {
       "model_id": "75186ede5dfe4fa5a1ec526fe9275aea",
       "version_major": 2,
       "version_minor": 0
      },
      "text/plain": [
       "devtest/hau_Latn.parquet:   0%|          | 0.00/120k [00:00<?, ?B/s]"
      ]
     },
     "metadata": {},
     "output_type": "display_data"
    },
    {
     "data": {
      "application/vnd.jupyter.widget-view+json": {
       "model_id": "a472eaa318fe4e798d163335e66a592c",
       "version_major": 2,
       "version_minor": 0
      },
      "text/plain": [
       "devtest/hin_Deva.parquet:   0%|          | 0.00/168k [00:00<?, ?B/s]"
      ]
     },
     "metadata": {},
     "output_type": "display_data"
    },
    {
     "data": {
      "application/vnd.jupyter.widget-view+json": {
       "model_id": "d8c9b6809cfc482da3180231ac1c2d68",
       "version_major": 2,
       "version_minor": 0
      },
      "text/plain": [
       "devtest/hat_Latn.parquet:   0%|          | 0.00/111k [00:00<?, ?B/s]"
      ]
     },
     "metadata": {},
     "output_type": "display_data"
    },
    {
     "data": {
      "application/vnd.jupyter.widget-view+json": {
       "model_id": "9604292a60d646b18259148af169bb01",
       "version_major": 2,
       "version_minor": 0
      },
      "text/plain": [
       "devtest/heb_Hebr.parquet:   0%|          | 0.00/129k [00:00<?, ?B/s]"
      ]
     },
     "metadata": {},
     "output_type": "display_data"
    },
    {
     "data": {
      "application/vnd.jupyter.widget-view+json": {
       "model_id": "3d7cb537f24a421d84f90f1312b81286",
       "version_major": 2,
       "version_minor": 0
      },
      "text/plain": [
       "devtest/hne_Deva.parquet:   0%|          | 0.00/164k [00:00<?, ?B/s]"
      ]
     },
     "metadata": {},
     "output_type": "display_data"
    },
    {
     "data": {
      "application/vnd.jupyter.widget-view+json": {
       "model_id": "80f1bbf067094a33864fbbb6eb505380",
       "version_major": 2,
       "version_minor": 0
      },
      "text/plain": [
       "devtest/hrv_Latn.parquet:   0%|          | 0.00/123k [00:00<?, ?B/s]"
      ]
     },
     "metadata": {},
     "output_type": "display_data"
    },
    {
     "data": {
      "application/vnd.jupyter.widget-view+json": {
       "model_id": "ccbb7947ba4c4e93832c1fc77775c997",
       "version_major": 2,
       "version_minor": 0
      },
      "text/plain": [
       "devtest/hun_Latn.parquet:   0%|          | 0.00/134k [00:00<?, ?B/s]"
      ]
     },
     "metadata": {},
     "output_type": "display_data"
    },
    {
     "data": {
      "application/vnd.jupyter.widget-view+json": {
       "model_id": "2a1c6bd567414b33a5e06e13d35f5e02",
       "version_major": 2,
       "version_minor": 0
      },
      "text/plain": [
       "devtest/hye_Armn.parquet:   0%|          | 0.00/164k [00:00<?, ?B/s]"
      ]
     },
     "metadata": {},
     "output_type": "display_data"
    },
    {
     "data": {
      "application/vnd.jupyter.widget-view+json": {
       "model_id": "cca4b4af6d9349349cebb2c5ed4b65bc",
       "version_major": 2,
       "version_minor": 0
      },
      "text/plain": [
       "devtest/ilo_Latn.parquet:   0%|          | 0.00/127k [00:00<?, ?B/s]"
      ]
     },
     "metadata": {},
     "output_type": "display_data"
    },
    {
     "data": {
      "application/vnd.jupyter.widget-view+json": {
       "model_id": "448a7ab8d7454d4881c334ae23c83542",
       "version_major": 2,
       "version_minor": 0
      },
      "text/plain": [
       "devtest/ibo_Latn.parquet:   0%|          | 0.00/124k [00:00<?, ?B/s]"
      ]
     },
     "metadata": {},
     "output_type": "display_data"
    },
    {
     "data": {
      "application/vnd.jupyter.widget-view+json": {
       "model_id": "f374ce95ccbd40c0a99521c3f07d5ef5",
       "version_major": 2,
       "version_minor": 0
      },
      "text/plain": [
       "devtest/ind_Latn.parquet:   0%|          | 0.00/118k [00:00<?, ?B/s]"
      ]
     },
     "metadata": {},
     "output_type": "display_data"
    },
    {
     "data": {
      "application/vnd.jupyter.widget-view+json": {
       "model_id": "d60e5a196a494a3987d5adbd4f9d2a04",
       "version_major": 2,
       "version_minor": 0
      },
      "text/plain": [
       "devtest/isl_Latn.parquet:   0%|          | 0.00/126k [00:00<?, ?B/s]"
      ]
     },
     "metadata": {},
     "output_type": "display_data"
    },
    {
     "data": {
      "application/vnd.jupyter.widget-view+json": {
       "model_id": "1c3670aa5e6344e085253b0855eb5cce",
       "version_major": 2,
       "version_minor": 0
      },
      "text/plain": [
       "devtest/jav_Latn.parquet:   0%|          | 0.00/116k [00:00<?, ?B/s]"
      ]
     },
     "metadata": {},
     "output_type": "display_data"
    },
    {
     "data": {
      "application/vnd.jupyter.widget-view+json": {
       "model_id": "687fa381cfbd4be7bd31dcbd39a67b9e",
       "version_major": 2,
       "version_minor": 0
      },
      "text/plain": [
       "devtest/ita_Latn.parquet:   0%|          | 0.00/133k [00:00<?, ?B/s]"
      ]
     },
     "metadata": {},
     "output_type": "display_data"
    },
    {
     "data": {
      "application/vnd.jupyter.widget-view+json": {
       "model_id": "877ac21bc4204abe91ac2cc7124f93c1",
       "version_major": 2,
       "version_minor": 0
      },
      "text/plain": [
       "devtest/jpn_Jpan.parquet:   0%|          | 0.00/131k [00:00<?, ?B/s]"
      ]
     },
     "metadata": {},
     "output_type": "display_data"
    },
    {
     "data": {
      "application/vnd.jupyter.widget-view+json": {
       "model_id": "59dd643693004a2b9994f85e38a96526",
       "version_major": 2,
       "version_minor": 0
      },
      "text/plain": [
       "devtest/kaa_Latn.parquet:   0%|          | 0.00/123k [00:00<?, ?B/s]"
      ]
     },
     "metadata": {},
     "output_type": "display_data"
    },
    {
     "data": {
      "application/vnd.jupyter.widget-view+json": {
       "model_id": "b35291b864934d358f76252e55b80dc9",
       "version_major": 2,
       "version_minor": 0
      },
      "text/plain": [
       "devtest/kac_Latn.parquet:   0%|          | 0.00/126k [00:00<?, ?B/s]"
      ]
     },
     "metadata": {},
     "output_type": "display_data"
    },
    {
     "data": {
      "application/vnd.jupyter.widget-view+json": {
       "model_id": "2fc1ee5253e14df9a7022092bb4f140d",
       "version_major": 2,
       "version_minor": 0
      },
      "text/plain": [
       "devtest/kab_Latn.parquet:   0%|          | 0.00/122k [00:00<?, ?B/s]"
      ]
     },
     "metadata": {},
     "output_type": "display_data"
    },
    {
     "data": {
      "application/vnd.jupyter.widget-view+json": {
       "model_id": "cda29da8f8ba41ecbdb714b849911e2f",
       "version_major": 2,
       "version_minor": 0
      },
      "text/plain": [
       "devtest/kam_Latn.parquet:   0%|          | 0.00/120k [00:00<?, ?B/s]"
      ]
     },
     "metadata": {},
     "output_type": "display_data"
    },
    {
     "data": {
      "application/vnd.jupyter.widget-view+json": {
       "model_id": "07edc12e31ba4aca8aa2d576aa3fdfcc",
       "version_major": 2,
       "version_minor": 0
      },
      "text/plain": [
       "devtest/kan_Knda.parquet:   0%|          | 0.00/180k [00:00<?, ?B/s]"
      ]
     },
     "metadata": {},
     "output_type": "display_data"
    },
    {
     "data": {
      "application/vnd.jupyter.widget-view+json": {
       "model_id": "ec7ed7c496f942adb90471c965bfaed9",
       "version_major": 2,
       "version_minor": 0
      },
      "text/plain": [
       "devtest/kat_Geor.parquet:   0%|          | 0.00/177k [00:00<?, ?B/s]"
      ]
     },
     "metadata": {},
     "output_type": "display_data"
    },
    {
     "data": {
      "application/vnd.jupyter.widget-view+json": {
       "model_id": "4de1a12a809a4aa7b982b56d8b404a27",
       "version_major": 2,
       "version_minor": 0
      },
      "text/plain": [
       "devtest/kas_Deva.parquet:   0%|          | 0.00/172k [00:00<?, ?B/s]"
      ]
     },
     "metadata": {},
     "output_type": "display_data"
    },
    {
     "data": {
      "application/vnd.jupyter.widget-view+json": {
       "model_id": "3acc35455075451f8ffa2ddc7e627dda",
       "version_major": 2,
       "version_minor": 0
      },
      "text/plain": [
       "devtest/kas_Arab.parquet:   0%|          | 0.00/156k [00:00<?, ?B/s]"
      ]
     },
     "metadata": {},
     "output_type": "display_data"
    },
    {
     "data": {
      "application/vnd.jupyter.widget-view+json": {
       "model_id": "aacf24856b414d9ba23418e0131dfeec",
       "version_major": 2,
       "version_minor": 0
      },
      "text/plain": [
       "devtest/kaz_Cyrl.parquet:   0%|          | 0.00/155k [00:00<?, ?B/s]"
      ]
     },
     "metadata": {},
     "output_type": "display_data"
    },
    {
     "data": {
      "application/vnd.jupyter.widget-view+json": {
       "model_id": "36dda6ca73fa4fc099a9ff3f6344cb1a",
       "version_major": 2,
       "version_minor": 0
      },
      "text/plain": [
       "devtest/kbp_Latn.parquet:   0%|          | 0.00/127k [00:00<?, ?B/s]"
      ]
     },
     "metadata": {},
     "output_type": "display_data"
    },
    {
     "data": {
      "application/vnd.jupyter.widget-view+json": {
       "model_id": "d167e2837a00447ba8b8457379fb9acd",
       "version_major": 2,
       "version_minor": 0
      },
      "text/plain": [
       "devtest/kea_Latn.parquet:   0%|          | 0.00/118k [00:00<?, ?B/s]"
      ]
     },
     "metadata": {},
     "output_type": "display_data"
    },
    {
     "data": {
      "application/vnd.jupyter.widget-view+json": {
       "model_id": "2624f57942434242a85b3490f07ee49c",
       "version_major": 2,
       "version_minor": 0
      },
      "text/plain": [
       "devtest/khk_Cyrl.parquet:   0%|          | 0.00/156k [00:00<?, ?B/s]"
      ]
     },
     "metadata": {},
     "output_type": "display_data"
    },
    {
     "data": {
      "application/vnd.jupyter.widget-view+json": {
       "model_id": "7487e5924c354ad39f1bc4fd28423e11",
       "version_major": 2,
       "version_minor": 0
      },
      "text/plain": [
       "devtest/khm_Khmr.parquet:   0%|          | 0.00/209k [00:00<?, ?B/s]"
      ]
     },
     "metadata": {},
     "output_type": "display_data"
    },
    {
     "data": {
      "application/vnd.jupyter.widget-view+json": {
       "model_id": "1ed8a6d8918448ebb2f9079eee8c1b00",
       "version_major": 2,
       "version_minor": 0
      },
      "text/plain": [
       "devtest/kik_Latn.parquet:   0%|          | 0.00/130k [00:00<?, ?B/s]"
      ]
     },
     "metadata": {},
     "output_type": "display_data"
    },
    {
     "data": {
      "application/vnd.jupyter.widget-view+json": {
       "model_id": "1cce0da68da343128cb33ad1202eb962",
       "version_major": 2,
       "version_minor": 0
      },
      "text/plain": [
       "devtest/kin_Latn.parquet:   0%|          | 0.00/124k [00:00<?, ?B/s]"
      ]
     },
     "metadata": {},
     "output_type": "display_data"
    },
    {
     "data": {
      "application/vnd.jupyter.widget-view+json": {
       "model_id": "6299e0be01ed4794ad38733a55c8210b",
       "version_major": 2,
       "version_minor": 0
      },
      "text/plain": [
       "devtest/kir_Cyrl.parquet:   0%|          | 0.00/157k [00:00<?, ?B/s]"
      ]
     },
     "metadata": {},
     "output_type": "display_data"
    },
    {
     "data": {
      "application/vnd.jupyter.widget-view+json": {
       "model_id": "395be86370f84d4bbda3ca78bff4b34c",
       "version_major": 2,
       "version_minor": 0
      },
      "text/plain": [
       "devtest/kmb_Latn.parquet:   0%|          | 0.00/121k [00:00<?, ?B/s]"
      ]
     },
     "metadata": {},
     "output_type": "display_data"
    },
    {
     "data": {
      "application/vnd.jupyter.widget-view+json": {
       "model_id": "95ddaf11c7e444209ba3939d6603bf8c",
       "version_major": 2,
       "version_minor": 0
      },
      "text/plain": [
       "devtest/kmr_Latn.parquet:   0%|          | 0.00/126k [00:00<?, ?B/s]"
      ]
     },
     "metadata": {},
     "output_type": "display_data"
    },
    {
     "data": {
      "application/vnd.jupyter.widget-view+json": {
       "model_id": "7dd14d84685c4e2ea2feb5f80354c0d7",
       "version_major": 2,
       "version_minor": 0
      },
      "text/plain": [
       "devtest/knc_Arab.parquet:   0%|          | 0.00/135k [00:00<?, ?B/s]"
      ]
     },
     "metadata": {},
     "output_type": "display_data"
    },
    {
     "data": {
      "application/vnd.jupyter.widget-view+json": {
       "model_id": "7f838ffee5f94f38862381c0d8a002cf",
       "version_major": 2,
       "version_minor": 0
      },
      "text/plain": [
       "devtest/knc_Latn.parquet:   0%|          | 0.00/123k [00:00<?, ?B/s]"
      ]
     },
     "metadata": {},
     "output_type": "display_data"
    },
    {
     "data": {
      "application/vnd.jupyter.widget-view+json": {
       "model_id": "d70b4e5715f64acc9e33737f712f0a1b",
       "version_major": 2,
       "version_minor": 0
      },
      "text/plain": [
       "devtest/kor_Hang.parquet:   0%|          | 0.00/131k [00:00<?, ?B/s]"
      ]
     },
     "metadata": {},
     "output_type": "display_data"
    },
    {
     "data": {
      "application/vnd.jupyter.widget-view+json": {
       "model_id": "b3b6670f68994c8c9b29afb149451c53",
       "version_major": 2,
       "version_minor": 0
      },
      "text/plain": [
       "devtest/lij_Latn.parquet:   0%|          | 0.00/131k [00:00<?, ?B/s]"
      ]
     },
     "metadata": {},
     "output_type": "display_data"
    },
    {
     "data": {
      "application/vnd.jupyter.widget-view+json": {
       "model_id": "c8b9620a046f40ec9474640633536af0",
       "version_major": 2,
       "version_minor": 0
      },
      "text/plain": [
       "devtest/lim_Latn.parquet:   0%|          | 0.00/126k [00:00<?, ?B/s]"
      ]
     },
     "metadata": {},
     "output_type": "display_data"
    },
    {
     "data": {
      "application/vnd.jupyter.widget-view+json": {
       "model_id": "31a8f92e7ff84c19b376ab79346e03e6",
       "version_major": 2,
       "version_minor": 0
      },
      "text/plain": [
       "devtest/lit_Latn.parquet:   0%|          | 0.00/127k [00:00<?, ?B/s]"
      ]
     },
     "metadata": {},
     "output_type": "display_data"
    },
    {
     "data": {
      "application/vnd.jupyter.widget-view+json": {
       "model_id": "f23101af38084ca3b43f48aca5d32477",
       "version_major": 2,
       "version_minor": 0
      },
      "text/plain": [
       "devtest/ktu_Latn.parquet:   0%|          | 0.00/114k [00:00<?, ?B/s]"
      ]
     },
     "metadata": {},
     "output_type": "display_data"
    },
    {
     "data": {
      "application/vnd.jupyter.widget-view+json": {
       "model_id": "550ea9a8e59841d29c782d702f475177",
       "version_major": 2,
       "version_minor": 0
      },
      "text/plain": [
       "devtest/lin_Latn.parquet:   0%|          | 0.00/109k [00:00<?, ?B/s]"
      ]
     },
     "metadata": {},
     "output_type": "display_data"
    },
    {
     "data": {
      "application/vnd.jupyter.widget-view+json": {
       "model_id": "e5ef8a81e5634088bc8c07baddb583d8",
       "version_major": 2,
       "version_minor": 0
      },
      "text/plain": [
       "devtest/lao_Laoo.parquet:   0%|          | 0.00/178k [00:00<?, ?B/s]"
      ]
     },
     "metadata": {},
     "output_type": "display_data"
    },
    {
     "data": {
      "application/vnd.jupyter.widget-view+json": {
       "model_id": "6109e048d0a147bfa684ad6808ff5ba4",
       "version_major": 2,
       "version_minor": 0
      },
      "text/plain": [
       "devtest/lld_Latn.parquet:   0%|          | 0.00/127k [00:00<?, ?B/s]"
      ]
     },
     "metadata": {},
     "output_type": "display_data"
    },
    {
     "data": {
      "application/vnd.jupyter.widget-view+json": {
       "model_id": "1aafc500f80b49bdb2885d89783f49c7",
       "version_major": 2,
       "version_minor": 0
      },
      "text/plain": [
       "devtest/ltg_Latn.parquet:   0%|          | 0.00/124k [00:00<?, ?B/s]"
      ]
     },
     "metadata": {},
     "output_type": "display_data"
    },
    {
     "data": {
      "application/vnd.jupyter.widget-view+json": {
       "model_id": "3338f32721b64477b76547582e29567c",
       "version_major": 2,
       "version_minor": 0
      },
      "text/plain": [
       "devtest/ltz_Latn.parquet:   0%|          | 0.00/130k [00:00<?, ?B/s]"
      ]
     },
     "metadata": {},
     "output_type": "display_data"
    },
    {
     "data": {
      "application/vnd.jupyter.widget-view+json": {
       "model_id": "82589c665d3e4c91a45ff0a6d747d83f",
       "version_major": 2,
       "version_minor": 0
      },
      "text/plain": [
       "devtest/lmo_Latn.parquet:   0%|          | 0.00/131k [00:00<?, ?B/s]"
      ]
     },
     "metadata": {},
     "output_type": "display_data"
    },
    {
     "data": {
      "application/vnd.jupyter.widget-view+json": {
       "model_id": "7ea89416619046039605223c18b8c7c8",
       "version_major": 2,
       "version_minor": 0
      },
      "text/plain": [
       "devtest/luo_Latn.parquet:   0%|          | 0.00/118k [00:00<?, ?B/s]"
      ]
     },
     "metadata": {},
     "output_type": "display_data"
    },
    {
     "data": {
      "application/vnd.jupyter.widget-view+json": {
       "model_id": "b683c1e628c241c19b848c0a19279ad6",
       "version_major": 2,
       "version_minor": 0
      },
      "text/plain": [
       "devtest/lug_Latn.parquet:   0%|          | 0.00/122k [00:00<?, ?B/s]"
      ]
     },
     "metadata": {},
     "output_type": "display_data"
    },
    {
     "data": {
      "application/vnd.jupyter.widget-view+json": {
       "model_id": "bb40838d1b304aa0b8944d2964598508",
       "version_major": 2,
       "version_minor": 0
      },
      "text/plain": [
       "devtest/lua_Latn.parquet:   0%|          | 0.00/118k [00:00<?, ?B/s]"
      ]
     },
     "metadata": {},
     "output_type": "display_data"
    },
    {
     "data": {
      "application/vnd.jupyter.widget-view+json": {
       "model_id": "21c370e6aedd40809726619707f2734d",
       "version_major": 2,
       "version_minor": 0
      },
      "text/plain": [
       "devtest/lus_Latn.parquet:   0%|          | 0.00/122k [00:00<?, ?B/s]"
      ]
     },
     "metadata": {},
     "output_type": "display_data"
    },
    {
     "data": {
      "application/vnd.jupyter.widget-view+json": {
       "model_id": "e43f71cced5a4a648fdfa9b307004615",
       "version_major": 2,
       "version_minor": 0
      },
      "text/plain": [
       "devtest/lvs_Latn.parquet:   0%|          | 0.00/129k [00:00<?, ?B/s]"
      ]
     },
     "metadata": {},
     "output_type": "display_data"
    },
    {
     "data": {
      "application/vnd.jupyter.widget-view+json": {
       "model_id": "0e8628c884ef4c0680044194f3a8695a",
       "version_major": 2,
       "version_minor": 0
      },
      "text/plain": [
       "devtest/mag_Deva.parquet:   0%|          | 0.00/162k [00:00<?, ?B/s]"
      ]
     },
     "metadata": {},
     "output_type": "display_data"
    },
    {
     "data": {
      "application/vnd.jupyter.widget-view+json": {
       "model_id": "a15c134cc8d54b9f82b68f26d21977d9",
       "version_major": 2,
       "version_minor": 0
      },
      "text/plain": [
       "devtest/mai_Deva.parquet:   0%|          | 0.00/165k [00:00<?, ?B/s]"
      ]
     },
     "metadata": {},
     "output_type": "display_data"
    },
    {
     "data": {
      "application/vnd.jupyter.widget-view+json": {
       "model_id": "169568f14d274a8fb433c40b72fa74db",
       "version_major": 2,
       "version_minor": 0
      },
      "text/plain": [
       "devtest/mar_Deva.parquet:   0%|          | 0.00/176k [00:00<?, ?B/s]"
      ]
     },
     "metadata": {},
     "output_type": "display_data"
    },
    {
     "data": {
      "application/vnd.jupyter.widget-view+json": {
       "model_id": "e918147c3fb746029baf19f412408b55",
       "version_major": 2,
       "version_minor": 0
      },
      "text/plain": [
       "devtest/mal_Mlym.parquet:   0%|          | 0.00/192k [00:00<?, ?B/s]"
      ]
     },
     "metadata": {},
     "output_type": "display_data"
    },
    {
     "data": {
      "application/vnd.jupyter.widget-view+json": {
       "model_id": "7cbaf7ff2d6b4e48a425498550d360f0",
       "version_major": 2,
       "version_minor": 0
      },
      "text/plain": [
       "devtest/min_Arab.parquet:   0%|          | 0.00/144k [00:00<?, ?B/s]"
      ]
     },
     "metadata": {},
     "output_type": "display_data"
    },
    {
     "data": {
      "application/vnd.jupyter.widget-view+json": {
       "model_id": "cafca54ea60e4e99a16b3af2e17d1a29",
       "version_major": 2,
       "version_minor": 0
      },
      "text/plain": [
       "devtest/min_Latn.parquet:   0%|          | 0.00/118k [00:00<?, ?B/s]"
      ]
     },
     "metadata": {},
     "output_type": "display_data"
    },
    {
     "data": {
      "application/vnd.jupyter.widget-view+json": {
       "model_id": "5369cd8563d5447a97cab7b5bbb663e1",
       "version_major": 2,
       "version_minor": 0
      },
      "text/plain": [
       "devtest/mkd_Cyrl.parquet:   0%|          | 0.00/155k [00:00<?, ?B/s]"
      ]
     },
     "metadata": {},
     "output_type": "display_data"
    },
    {
     "data": {
      "application/vnd.jupyter.widget-view+json": {
       "model_id": "9eef5c10e09341f3acbc28063c1fdacc",
       "version_major": 2,
       "version_minor": 0
      },
      "text/plain": [
       "devtest/mni_Beng.parquet:   0%|          | 0.00/171k [00:00<?, ?B/s]"
      ]
     },
     "metadata": {},
     "output_type": "display_data"
    },
    {
     "data": {
      "application/vnd.jupyter.widget-view+json": {
       "model_id": "fa2e23fd2afb4e11b27609ebdfd4658e",
       "version_major": 2,
       "version_minor": 0
      },
      "text/plain": [
       "devtest/mlt_Latn.parquet:   0%|          | 0.00/131k [00:00<?, ?B/s]"
      ]
     },
     "metadata": {},
     "output_type": "display_data"
    },
    {
     "data": {
      "application/vnd.jupyter.widget-view+json": {
       "model_id": "33bbfe62354e4dd783a0c826ca1bfc6c",
       "version_major": 2,
       "version_minor": 0
      },
      "text/plain": [
       "devtest/mos_Latn.parquet:   0%|          | 0.00/119k [00:00<?, ?B/s]"
      ]
     },
     "metadata": {},
     "output_type": "display_data"
    },
    {
     "data": {
      "application/vnd.jupyter.widget-view+json": {
       "model_id": "a246e151f18a49beb5a55bb2dba4ffc1",
       "version_major": 2,
       "version_minor": 0
      },
      "text/plain": [
       "devtest/nld_Latn.parquet:   0%|          | 0.00/126k [00:00<?, ?B/s]"
      ]
     },
     "metadata": {},
     "output_type": "display_data"
    },
    {
     "data": {
      "application/vnd.jupyter.widget-view+json": {
       "model_id": "a3d57c3c5f1541a3afc4c7bda3f01f24",
       "version_major": 2,
       "version_minor": 0
      },
      "text/plain": [
       "devtest/mri_Latn.parquet:   0%|          | 0.00/117k [00:00<?, ?B/s]"
      ]
     },
     "metadata": {},
     "output_type": "display_data"
    },
    {
     "data": {
      "application/vnd.jupyter.widget-view+json": {
       "model_id": "8fca1742b1a2474bb0599a1779c9d8e8",
       "version_major": 2,
       "version_minor": 0
      },
      "text/plain": [
       "devtest/nno_Latn.parquet:   0%|          | 0.00/120k [00:00<?, ?B/s]"
      ]
     },
     "metadata": {},
     "output_type": "display_data"
    },
    {
     "data": {
      "application/vnd.jupyter.widget-view+json": {
       "model_id": "9372589ca5874c95a145092ae3c3fedf",
       "version_major": 2,
       "version_minor": 0
      },
      "text/plain": [
       "devtest/nob_Latn.parquet:   0%|          | 0.00/117k [00:00<?, ?B/s]"
      ]
     },
     "metadata": {},
     "output_type": "display_data"
    },
    {
     "data": {
      "application/vnd.jupyter.widget-view+json": {
       "model_id": "fb157352615c454992f3940a29ab7491",
       "version_major": 2,
       "version_minor": 0
      },
      "text/plain": [
       "devtest/myv_Cyrl.parquet:   0%|          | 0.00/154k [00:00<?, ?B/s]"
      ]
     },
     "metadata": {},
     "output_type": "display_data"
    },
    {
     "data": {
      "application/vnd.jupyter.widget-view+json": {
       "model_id": "c8182b1d4daa4ea79d2d6ea2fbed7c08",
       "version_major": 2,
       "version_minor": 0
      },
      "text/plain": [
       "devtest/mya_Mymr.parquet:   0%|          | 0.00/193k [00:00<?, ?B/s]"
      ]
     },
     "metadata": {},
     "output_type": "display_data"
    },
    {
     "data": {
      "application/vnd.jupyter.widget-view+json": {
       "model_id": "ceb2bc0caa5a4a178a7a4a608b0805f6",
       "version_major": 2,
       "version_minor": 0
      },
      "text/plain": [
       "devtest/nya_Latn.parquet:   0%|          | 0.00/122k [00:00<?, ?B/s]"
      ]
     },
     "metadata": {},
     "output_type": "display_data"
    },
    {
     "data": {
      "application/vnd.jupyter.widget-view+json": {
       "model_id": "70714e0ca66a4c569a9eed7e7bfced7f",
       "version_major": 2,
       "version_minor": 0
      },
      "text/plain": [
       "devtest/nus_Latn.parquet:   0%|          | 0.00/128k [00:00<?, ?B/s]"
      ]
     },
     "metadata": {},
     "output_type": "display_data"
    },
    {
     "data": {
      "application/vnd.jupyter.widget-view+json": {
       "model_id": "478e9c7096274df88e9698d724b7505d",
       "version_major": 2,
       "version_minor": 0
      },
      "text/plain": [
       "devtest/oci_Latn.parquet:   0%|          | 0.00/130k [00:00<?, ?B/s]"
      ]
     },
     "metadata": {},
     "output_type": "display_data"
    },
    {
     "data": {
      "application/vnd.jupyter.widget-view+json": {
       "model_id": "5b2c26c143dd4a8fa21722c61206373a",
       "version_major": 2,
       "version_minor": 0
      },
      "text/plain": [
       "devtest/nqo_Nkoo.parquet:   0%|          | 0.00/168k [00:00<?, ?B/s]"
      ]
     },
     "metadata": {},
     "output_type": "display_data"
    },
    {
     "data": {
      "application/vnd.jupyter.widget-view+json": {
       "model_id": "96d0d22a1a2147bba636febfc7c63152",
       "version_major": 2,
       "version_minor": 0
      },
      "text/plain": [
       "devtest/npi_Deva.parquet:   0%|          | 0.00/169k [00:00<?, ?B/s]"
      ]
     },
     "metadata": {},
     "output_type": "display_data"
    },
    {
     "data": {
      "application/vnd.jupyter.widget-view+json": {
       "model_id": "bdd4b4892fe549ccae2a07acd6069725",
       "version_major": 2,
       "version_minor": 0
      },
      "text/plain": [
       "devtest/oci_Latn_aran1260.parquet:   0%|          | 0.00/133k [00:00<?, ?B/s]"
      ]
     },
     "metadata": {},
     "output_type": "display_data"
    },
    {
     "data": {
      "application/vnd.jupyter.widget-view+json": {
       "model_id": "6011d2612a644835824ffbd8156f9c9b",
       "version_major": 2,
       "version_minor": 0
      },
      "text/plain": [
       "devtest/pag_Latn.parquet:   0%|          | 0.00/114k [00:00<?, ?B/s]"
      ]
     },
     "metadata": {},
     "output_type": "display_data"
    },
    {
     "data": {
      "application/vnd.jupyter.widget-view+json": {
       "model_id": "f8ad11a68a694acd8da8ea74eff700a8",
       "version_major": 2,
       "version_minor": 0
      },
      "text/plain": [
       "devtest/ory_Orya.parquet:   0%|          | 0.00/177k [00:00<?, ?B/s]"
      ]
     },
     "metadata": {},
     "output_type": "display_data"
    },
    {
     "data": {
      "application/vnd.jupyter.widget-view+json": {
       "model_id": "2148d485cf094627bca6f003ecf5df5a",
       "version_major": 2,
       "version_minor": 0
      },
      "text/plain": [
       "devtest/nso_Latn.parquet:   0%|          | 0.00/124k [00:00<?, ?B/s]"
      ]
     },
     "metadata": {},
     "output_type": "display_data"
    },
    {
     "data": {
      "application/vnd.jupyter.widget-view+json": {
       "model_id": "31f5d13088e14161a32d49fda17eedea",
       "version_major": 2,
       "version_minor": 0
      },
      "text/plain": [
       "devtest/pan_Guru.parquet:   0%|          | 0.00/172k [00:00<?, ?B/s]"
      ]
     },
     "metadata": {},
     "output_type": "display_data"
    },
    {
     "data": {
      "application/vnd.jupyter.widget-view+json": {
       "model_id": "8e031cc2f42240c8a24dcea654221d90",
       "version_major": 2,
       "version_minor": 0
      },
      "text/plain": [
       "devtest/pap_Latn.parquet:   0%|          | 0.00/121k [00:00<?, ?B/s]"
      ]
     },
     "metadata": {},
     "output_type": "display_data"
    },
    {
     "data": {
      "application/vnd.jupyter.widget-view+json": {
       "model_id": "f510bd5b57424267a81a299d96787b59",
       "version_major": 2,
       "version_minor": 0
      },
      "text/plain": [
       "devtest/plt_Latn.parquet:   0%|          | 0.00/124k [00:00<?, ?B/s]"
      ]
     },
     "metadata": {},
     "output_type": "display_data"
    },
    {
     "data": {
      "application/vnd.jupyter.widget-view+json": {
       "model_id": "418c19f4071e427fbac09ab7ff65e606",
       "version_major": 2,
       "version_minor": 0
      },
      "text/plain": [
       "devtest/pbt_Arab.parquet:   0%|          | 0.00/145k [00:00<?, ?B/s]"
      ]
     },
     "metadata": {},
     "output_type": "display_data"
    },
    {
     "data": {
      "application/vnd.jupyter.widget-view+json": {
       "model_id": "0ec235e9010c4805a37a24b8117cf66f",
       "version_major": 2,
       "version_minor": 0
      },
      "text/plain": [
       "devtest/pol_Latn.parquet:   0%|          | 0.00/134k [00:00<?, ?B/s]"
      ]
     },
     "metadata": {},
     "output_type": "display_data"
    },
    {
     "data": {
      "application/vnd.jupyter.widget-view+json": {
       "model_id": "8f0acb3f4a9741e092113e62b5772aa2",
       "version_major": 2,
       "version_minor": 0
      },
      "text/plain": [
       "devtest/pes_Arab.parquet:   0%|          | 0.00/145k [00:00<?, ?B/s]"
      ]
     },
     "metadata": {},
     "output_type": "display_data"
    },
    {
     "data": {
      "application/vnd.jupyter.widget-view+json": {
       "model_id": "26f7749d543f44bda2fd1ced6a0601c6",
       "version_major": 2,
       "version_minor": 0
      },
      "text/plain": [
       "devtest/por_Latn.parquet:   0%|          | 0.00/127k [00:00<?, ?B/s]"
      ]
     },
     "metadata": {},
     "output_type": "display_data"
    },
    {
     "data": {
      "application/vnd.jupyter.widget-view+json": {
       "model_id": "445642db7fd64250b3bf68cc57cc7101",
       "version_major": 2,
       "version_minor": 0
      },
      "text/plain": [
       "devtest/prs_Arab.parquet:   0%|          | 0.00/140k [00:00<?, ?B/s]"
      ]
     },
     "metadata": {},
     "output_type": "display_data"
    },
    {
     "data": {
      "application/vnd.jupyter.widget-view+json": {
       "model_id": "1ec2714ae3c6476084255a5110af34f7",
       "version_major": 2,
       "version_minor": 0
      },
      "text/plain": [
       "devtest/run_Latn.parquet:   0%|          | 0.00/126k [00:00<?, ?B/s]"
      ]
     },
     "metadata": {},
     "output_type": "display_data"
    },
    {
     "data": {
      "application/vnd.jupyter.widget-view+json": {
       "model_id": "613518ea50e44c4f8b07d28e9793db06",
       "version_major": 2,
       "version_minor": 0
      },
      "text/plain": [
       "devtest/quy_Latn.parquet:   0%|          | 0.00/118k [00:00<?, ?B/s]"
      ]
     },
     "metadata": {},
     "output_type": "display_data"
    },
    {
     "data": {
      "application/vnd.jupyter.widget-view+json": {
       "model_id": "3ce39c4064414d26aa41f47efd30cf9e",
       "version_major": 2,
       "version_minor": 0
      },
      "text/plain": [
       "devtest/ron_Latn.parquet:   0%|          | 0.00/133k [00:00<?, ?B/s]"
      ]
     },
     "metadata": {},
     "output_type": "display_data"
    },
    {
     "data": {
      "application/vnd.jupyter.widget-view+json": {
       "model_id": "822277310455452cb10d6173dda00a15",
       "version_major": 2,
       "version_minor": 0
      },
      "text/plain": [
       "devtest/rus_Cyrl.parquet:   0%|          | 0.00/167k [00:00<?, ?B/s]"
      ]
     },
     "metadata": {},
     "output_type": "display_data"
    },
    {
     "data": {
      "application/vnd.jupyter.widget-view+json": {
       "model_id": "a4e362f46a2848539317be10ff124e70",
       "version_major": 2,
       "version_minor": 0
      },
      "text/plain": [
       "devtest/sag_Latn.parquet:   0%|          | 0.00/111k [00:00<?, ?B/s]"
      ]
     },
     "metadata": {},
     "output_type": "display_data"
    },
    {
     "data": {
      "application/vnd.jupyter.widget-view+json": {
       "model_id": "d17e0148b75441a9a61e58bb491af5d4",
       "version_major": 2,
       "version_minor": 0
      },
      "text/plain": [
       "devtest/san_Deva.parquet:   0%|          | 0.00/171k [00:00<?, ?B/s]"
      ]
     },
     "metadata": {},
     "output_type": "display_data"
    },
    {
     "data": {
      "application/vnd.jupyter.widget-view+json": {
       "model_id": "1c6eff47754240d7b248d9c3836fd349",
       "version_major": 2,
       "version_minor": 0
      },
      "text/plain": [
       "devtest/sat_Olck.parquet:   0%|          | 0.00/170k [00:00<?, ?B/s]"
      ]
     },
     "metadata": {},
     "output_type": "display_data"
    },
    {
     "data": {
      "application/vnd.jupyter.widget-view+json": {
       "model_id": "723d36bfdfcd4a41bde454b3196db896",
       "version_major": 2,
       "version_minor": 0
      },
      "text/plain": [
       "devtest/shn_Mymr.parquet:   0%|          | 0.00/223k [00:00<?, ?B/s]"
      ]
     },
     "metadata": {},
     "output_type": "display_data"
    },
    {
     "data": {
      "application/vnd.jupyter.widget-view+json": {
       "model_id": "9e7bfb6d380442809ac5a70b6033699f",
       "version_major": 2,
       "version_minor": 0
      },
      "text/plain": [
       "devtest/scn_Latn.parquet:   0%|          | 0.00/126k [00:00<?, ?B/s]"
      ]
     },
     "metadata": {},
     "output_type": "display_data"
    },
    {
     "data": {
      "application/vnd.jupyter.widget-view+json": {
       "model_id": "9417f12592114818b284f83c2b14dcd7",
       "version_major": 2,
       "version_minor": 0
      },
      "text/plain": [
       "devtest/slv_Latn.parquet:   0%|          | 0.00/124k [00:00<?, ?B/s]"
      ]
     },
     "metadata": {},
     "output_type": "display_data"
    },
    {
     "data": {
      "application/vnd.jupyter.widget-view+json": {
       "model_id": "a97c28459cb647f789881997e25083fe",
       "version_major": 2,
       "version_minor": 0
      },
      "text/plain": [
       "devtest/slk_Latn.parquet:   0%|          | 0.00/132k [00:00<?, ?B/s]"
      ]
     },
     "metadata": {},
     "output_type": "display_data"
    },
    {
     "data": {
      "application/vnd.jupyter.widget-view+json": {
       "model_id": "a697ce3811344d8f9e5922555a2cb8bc",
       "version_major": 2,
       "version_minor": 0
      },
      "text/plain": [
       "devtest/sin_Sinh.parquet:   0%|          | 0.00/180k [00:00<?, ?B/s]"
      ]
     },
     "metadata": {},
     "output_type": "display_data"
    },
    {
     "data": {
      "application/vnd.jupyter.widget-view+json": {
       "model_id": "335a776e2a004151ab45edebad0a7daa",
       "version_major": 2,
       "version_minor": 0
      },
      "text/plain": [
       "devtest/smo_Latn.parquet:   0%|          | 0.00/121k [00:00<?, ?B/s]"
      ]
     },
     "metadata": {},
     "output_type": "display_data"
    },
    {
     "data": {
      "application/vnd.jupyter.widget-view+json": {
       "model_id": "d3733ee18e754eaaa904667b44267fe9",
       "version_major": 2,
       "version_minor": 0
      },
      "text/plain": [
       "devtest/sna_Latn.parquet:   0%|          | 0.00/124k [00:00<?, ?B/s]"
      ]
     },
     "metadata": {},
     "output_type": "display_data"
    },
    {
     "data": {
      "application/vnd.jupyter.widget-view+json": {
       "model_id": "f90312ee9d324ba69d9a6cce1d3f1216",
       "version_major": 2,
       "version_minor": 0
      },
      "text/plain": [
       "devtest/som_Latn.parquet:   0%|          | 0.00/133k [00:00<?, ?B/s]"
      ]
     },
     "metadata": {},
     "output_type": "display_data"
    },
    {
     "data": {
      "application/vnd.jupyter.widget-view+json": {
       "model_id": "47ce1a0906cf4fd586d2b32776f597a1",
       "version_major": 2,
       "version_minor": 0
      },
      "text/plain": [
       "devtest/sot_Latn.parquet:   0%|          | 0.00/126k [00:00<?, ?B/s]"
      ]
     },
     "metadata": {},
     "output_type": "display_data"
    },
    {
     "data": {
      "application/vnd.jupyter.widget-view+json": {
       "model_id": "56949f900da149529329fb132425b912",
       "version_major": 2,
       "version_minor": 0
      },
      "text/plain": [
       "devtest/snd_Arab.parquet:   0%|          | 0.00/141k [00:00<?, ?B/s]"
      ]
     },
     "metadata": {},
     "output_type": "display_data"
    },
    {
     "data": {
      "application/vnd.jupyter.widget-view+json": {
       "model_id": "7942f2404889468caf2d4cda7aa1da55",
       "version_major": 2,
       "version_minor": 0
      },
      "text/plain": [
       "devtest/srd_Latn.parquet:   0%|          | 0.00/128k [00:00<?, ?B/s]"
      ]
     },
     "metadata": {},
     "output_type": "display_data"
    },
    {
     "data": {
      "application/vnd.jupyter.widget-view+json": {
       "model_id": "d71aebc963d84d50a5b578ddda9972b4",
       "version_major": 2,
       "version_minor": 0
      },
      "text/plain": [
       "devtest/srp_Cyrl.parquet:   0%|          | 0.00/154k [00:00<?, ?B/s]"
      ]
     },
     "metadata": {},
     "output_type": "display_data"
    },
    {
     "data": {
      "application/vnd.jupyter.widget-view+json": {
       "model_id": "e0ff3ceb7de14de4bc69c9a407f7d844",
       "version_major": 2,
       "version_minor": 0
      },
      "text/plain": [
       "devtest/ssw_Latn.parquet:   0%|          | 0.00/126k [00:00<?, ?B/s]"
      ]
     },
     "metadata": {},
     "output_type": "display_data"
    },
    {
     "data": {
      "application/vnd.jupyter.widget-view+json": {
       "model_id": "7f473e60cb6a42ebbb95d3a50c15fb16",
       "version_major": 2,
       "version_minor": 0
      },
      "text/plain": [
       "devtest/sun_Latn.parquet:   0%|          | 0.00/120k [00:00<?, ?B/s]"
      ]
     },
     "metadata": {},
     "output_type": "display_data"
    },
    {
     "data": {
      "application/vnd.jupyter.widget-view+json": {
       "model_id": "5d1774f01d0043d180c8561f65a3b59a",
       "version_major": 2,
       "version_minor": 0
      },
      "text/plain": [
       "devtest/swe_Latn.parquet:   0%|          | 0.00/122k [00:00<?, ?B/s]"
      ]
     },
     "metadata": {},
     "output_type": "display_data"
    },
    {
     "data": {
      "application/vnd.jupyter.widget-view+json": {
       "model_id": "02937f41351749cabb9a3ac1407d0448",
       "version_major": 2,
       "version_minor": 0
      },
      "text/plain": [
       "devtest/spa_Latn.parquet:   0%|          | 0.00/134k [00:00<?, ?B/s]"
      ]
     },
     "metadata": {},
     "output_type": "display_data"
    },
    {
     "data": {
      "application/vnd.jupyter.widget-view+json": {
       "model_id": "fed24512bc2e4fbdad4966f3e12cbb8c",
       "version_major": 2,
       "version_minor": 0
      },
      "text/plain": [
       "devtest/szl_Latn.parquet:   0%|          | 0.00/133k [00:00<?, ?B/s]"
      ]
     },
     "metadata": {},
     "output_type": "display_data"
    },
    {
     "data": {
      "application/vnd.jupyter.widget-view+json": {
       "model_id": "2491d8ed3079411596bf8185c2187787",
       "version_major": 2,
       "version_minor": 0
      },
      "text/plain": [
       "devtest/swh_Latn.parquet:   0%|          | 0.00/117k [00:00<?, ?B/s]"
      ]
     },
     "metadata": {},
     "output_type": "display_data"
    },
    {
     "data": {
      "application/vnd.jupyter.widget-view+json": {
       "model_id": "6c1f8f7966e94eb9bac10098949cc875",
       "version_major": 2,
       "version_minor": 0
      },
      "text/plain": [
       "devtest/taq_Latn.parquet:   0%|          | 0.00/120k [00:00<?, ?B/s]"
      ]
     },
     "metadata": {},
     "output_type": "display_data"
    },
    {
     "data": {
      "application/vnd.jupyter.widget-view+json": {
       "model_id": "f41aeedb6c504b4ba71bb68733e53ca3",
       "version_major": 2,
       "version_minor": 0
      },
      "text/plain": [
       "devtest/taq_Tfng.parquet:   0%|          | 0.00/158k [00:00<?, ?B/s]"
      ]
     },
     "metadata": {},
     "output_type": "display_data"
    },
    {
     "data": {
      "application/vnd.jupyter.widget-view+json": {
       "model_id": "01e6de3e4bc445ccba0dd7c5485d1a57",
       "version_major": 2,
       "version_minor": 0
      },
      "text/plain": [
       "devtest/tat_Cyrl.parquet:   0%|          | 0.00/154k [00:00<?, ?B/s]"
      ]
     },
     "metadata": {},
     "output_type": "display_data"
    },
    {
     "data": {
      "application/vnd.jupyter.widget-view+json": {
       "model_id": "ce2b9f697177462b901d1f513a703318",
       "version_major": 2,
       "version_minor": 0
      },
      "text/plain": [
       "devtest/tel_Telu.parquet:   0%|          | 0.00/176k [00:00<?, ?B/s]"
      ]
     },
     "metadata": {},
     "output_type": "display_data"
    },
    {
     "data": {
      "application/vnd.jupyter.widget-view+json": {
       "model_id": "ca32bab147ce434eb386bf30237aba91",
       "version_major": 2,
       "version_minor": 0
      },
      "text/plain": [
       "devtest/tam_Taml.parquet:   0%|          | 0.00/187k [00:00<?, ?B/s]"
      ]
     },
     "metadata": {},
     "output_type": "display_data"
    },
    {
     "data": {
      "application/vnd.jupyter.widget-view+json": {
       "model_id": "78061f54e9d8416b86eb722a2d72d526",
       "version_major": 2,
       "version_minor": 0
      },
      "text/plain": [
       "devtest/tgk_Cyrl.parquet:   0%|          | 0.00/163k [00:00<?, ?B/s]"
      ]
     },
     "metadata": {},
     "output_type": "display_data"
    },
    {
     "data": {
      "application/vnd.jupyter.widget-view+json": {
       "model_id": "137abbf842fa4961891cec65ec5dea78",
       "version_major": 2,
       "version_minor": 0
      },
      "text/plain": [
       "devtest/tha_Thai.parquet:   0%|          | 0.00/180k [00:00<?, ?B/s]"
      ]
     },
     "metadata": {},
     "output_type": "display_data"
    },
    {
     "data": {
      "application/vnd.jupyter.widget-view+json": {
       "model_id": "fc5d5c4d05fb4f3ea38f1dd7a80d53a8",
       "version_major": 2,
       "version_minor": 0
      },
      "text/plain": [
       "devtest/tir_Ethi.parquet:   0%|          | 0.00/155k [00:00<?, ?B/s]"
      ]
     },
     "metadata": {},
     "output_type": "display_data"
    },
    {
     "data": {
      "application/vnd.jupyter.widget-view+json": {
       "model_id": "3d7aecf10ede4c428e28c2c96376d998",
       "version_major": 2,
       "version_minor": 0
      },
      "text/plain": [
       "devtest/tsn_Latn.parquet:   0%|          | 0.00/130k [00:00<?, ?B/s]"
      ]
     },
     "metadata": {},
     "output_type": "display_data"
    },
    {
     "data": {
      "application/vnd.jupyter.widget-view+json": {
       "model_id": "7269fdeeff5240fcb2d1c961d3d749af",
       "version_major": 2,
       "version_minor": 0
      },
      "text/plain": [
       "devtest/tso_Latn.parquet:   0%|          | 0.00/124k [00:00<?, ?B/s]"
      ]
     },
     "metadata": {},
     "output_type": "display_data"
    },
    {
     "data": {
      "application/vnd.jupyter.widget-view+json": {
       "model_id": "d8a88ea58f0e43abaec7f77f42dd201a",
       "version_major": 2,
       "version_minor": 0
      },
      "text/plain": [
       "devtest/tuk_Latn.parquet:   0%|          | 0.00/127k [00:00<?, ?B/s]"
      ]
     },
     "metadata": {},
     "output_type": "display_data"
    },
    {
     "data": {
      "application/vnd.jupyter.widget-view+json": {
       "model_id": "8e1f1bdd43c14f27854a05466748eeda",
       "version_major": 2,
       "version_minor": 0
      },
      "text/plain": [
       "devtest/tum_Latn.parquet:   0%|          | 0.00/130k [00:00<?, ?B/s]"
      ]
     },
     "metadata": {},
     "output_type": "display_data"
    },
    {
     "data": {
      "application/vnd.jupyter.widget-view+json": {
       "model_id": "509bb1eda42f40e083cd3e29c0207853",
       "version_major": 2,
       "version_minor": 0
      },
      "text/plain": [
       "devtest/tpi_Latn.parquet:   0%|          | 0.00/117k [00:00<?, ?B/s]"
      ]
     },
     "metadata": {},
     "output_type": "display_data"
    },
    {
     "data": {
      "application/vnd.jupyter.widget-view+json": {
       "model_id": "b3dc55ed88594a6c8ef991ef637e8f50",
       "version_major": 2,
       "version_minor": 0
      },
      "text/plain": [
       "devtest/twi_Latn_asan1239.parquet:   0%|          | 0.00/119k [00:00<?, ?B/s]"
      ]
     },
     "metadata": {},
     "output_type": "display_data"
    },
    {
     "data": {
      "application/vnd.jupyter.widget-view+json": {
       "model_id": "fa23601e48fa4bfb8e2498bf7e9fb091",
       "version_major": 2,
       "version_minor": 0
      },
      "text/plain": [
       "devtest/tyv_Cyrl.parquet:   0%|          | 0.00/163k [00:00<?, ?B/s]"
      ]
     },
     "metadata": {},
     "output_type": "display_data"
    },
    {
     "data": {
      "application/vnd.jupyter.widget-view+json": {
       "model_id": "2f98aa970a04429aab6cb8feb53fe9b4",
       "version_major": 2,
       "version_minor": 0
      },
      "text/plain": [
       "devtest/tur_Latn.parquet:   0%|          | 0.00/126k [00:00<?, ?B/s]"
      ]
     },
     "metadata": {},
     "output_type": "display_data"
    },
    {
     "data": {
      "application/vnd.jupyter.widget-view+json": {
       "model_id": "0cf5d9da076a41298d5b8c4e139bbce9",
       "version_major": 2,
       "version_minor": 0
      },
      "text/plain": [
       "devtest/ukr_Cyrl.parquet:   0%|          | 0.00/162k [00:00<?, ?B/s]"
      ]
     },
     "metadata": {},
     "output_type": "display_data"
    },
    {
     "data": {
      "application/vnd.jupyter.widget-view+json": {
       "model_id": "7d6c83785d7f4159bb26699204d04625",
       "version_major": 2,
       "version_minor": 0
      },
      "text/plain": [
       "devtest/twi_Latn_akua1239.parquet:   0%|          | 0.00/116k [00:00<?, ?B/s]"
      ]
     },
     "metadata": {},
     "output_type": "display_data"
    },
    {
     "data": {
      "application/vnd.jupyter.widget-view+json": {
       "model_id": "6a7760329b0746ef8f6b3431f39504a2",
       "version_major": 2,
       "version_minor": 0
      },
      "text/plain": [
       "devtest/uig_Arab.parquet:   0%|          | 0.00/157k [00:00<?, ?B/s]"
      ]
     },
     "metadata": {},
     "output_type": "display_data"
    },
    {
     "data": {
      "application/vnd.jupyter.widget-view+json": {
       "model_id": "64afb6cf77f64e3db45aa9f73013bb3e",
       "version_major": 2,
       "version_minor": 0
      },
      "text/plain": [
       "devtest/urd_Arab.parquet:   0%|          | 0.00/151k [00:00<?, ?B/s]"
      ]
     },
     "metadata": {},
     "output_type": "display_data"
    },
    {
     "data": {
      "application/vnd.jupyter.widget-view+json": {
       "model_id": "9a53c953c7f147f48369491b5167b157",
       "version_major": 2,
       "version_minor": 0
      },
      "text/plain": [
       "devtest/umb_Latn.parquet:   0%|          | 0.00/115k [00:00<?, ?B/s]"
      ]
     },
     "metadata": {},
     "output_type": "display_data"
    },
    {
     "data": {
      "application/vnd.jupyter.widget-view+json": {
       "model_id": "cad39d98ade4483a9af833768933d869",
       "version_major": 2,
       "version_minor": 0
      },
      "text/plain": [
       "devtest/vec_Latn.parquet:   0%|          | 0.00/123k [00:00<?, ?B/s]"
      ]
     },
     "metadata": {},
     "output_type": "display_data"
    },
    {
     "data": {
      "application/vnd.jupyter.widget-view+json": {
       "model_id": "c9394ade74af4002abb210ec283c9357",
       "version_major": 2,
       "version_minor": 0
      },
      "text/plain": [
       "devtest/uzn_Latn.parquet:   0%|          | 0.00/125k [00:00<?, ?B/s]"
      ]
     },
     "metadata": {},
     "output_type": "display_data"
    },
    {
     "data": {
      "application/vnd.jupyter.widget-view+json": {
       "model_id": "2ec32788cf83428f8e350b44ff5f75c8",
       "version_major": 2,
       "version_minor": 0
      },
      "text/plain": [
       "devtest/vmw_Latn.parquet:   0%|          | 0.00/129k [00:00<?, ?B/s]"
      ]
     },
     "metadata": {},
     "output_type": "display_data"
    },
    {
     "data": {
      "application/vnd.jupyter.widget-view+json": {
       "model_id": "f729e7b64a2e48828a5d5e734d677f85",
       "version_major": 2,
       "version_minor": 0
      },
      "text/plain": [
       "devtest/vie_Latn.parquet:   0%|          | 0.00/133k [00:00<?, ?B/s]"
      ]
     },
     "metadata": {},
     "output_type": "display_data"
    },
    {
     "data": {
      "application/vnd.jupyter.widget-view+json": {
       "model_id": "a1b26bb87a9642aaa5346082a88f2351",
       "version_major": 2,
       "version_minor": 0
      },
      "text/plain": [
       "devtest/war_Latn.parquet:   0%|          | 0.00/128k [00:00<?, ?B/s]"
      ]
     },
     "metadata": {},
     "output_type": "display_data"
    },
    {
     "data": {
      "application/vnd.jupyter.widget-view+json": {
       "model_id": "c1dc52fbc05e4361ac2504a355e46825",
       "version_major": 2,
       "version_minor": 0
      },
      "text/plain": [
       "devtest/xho_Latn.parquet:   0%|          | 0.00/125k [00:00<?, ?B/s]"
      ]
     },
     "metadata": {},
     "output_type": "display_data"
    },
    {
     "data": {
      "application/vnd.jupyter.widget-view+json": {
       "model_id": "df4fa0e4e12346e19f6bffdcff1d81f0",
       "version_major": 2,
       "version_minor": 0
      },
      "text/plain": [
       "devtest/wol_Latn.parquet:   0%|          | 0.00/123k [00:00<?, ?B/s]"
      ]
     },
     "metadata": {},
     "output_type": "display_data"
    },
    {
     "data": {
      "application/vnd.jupyter.widget-view+json": {
       "model_id": "71e4df8e0afe4d7e8cb2505e5add6773",
       "version_major": 2,
       "version_minor": 0
      },
      "text/plain": [
       "devtest/ydd_Hebr.parquet:   0%|          | 0.00/153k [00:00<?, ?B/s]"
      ]
     },
     "metadata": {},
     "output_type": "display_data"
    },
    {
     "data": {
      "application/vnd.jupyter.widget-view+json": {
       "model_id": "c883bff5480c4849884f79db34ba3815",
       "version_major": 2,
       "version_minor": 0
      },
      "text/plain": [
       "devtest/yor_Latn.parquet:   0%|          | 0.00/135k [00:00<?, ?B/s]"
      ]
     },
     "metadata": {},
     "output_type": "display_data"
    },
    {
     "data": {
      "application/vnd.jupyter.widget-view+json": {
       "model_id": "394eeb8f24354785abbe43bf78a68d31",
       "version_major": 2,
       "version_minor": 0
      },
      "text/plain": [
       "devtest/zgh_Tfng.parquet:   0%|          | 0.00/160k [00:00<?, ?B/s]"
      ]
     },
     "metadata": {},
     "output_type": "display_data"
    },
    {
     "data": {
      "application/vnd.jupyter.widget-view+json": {
       "model_id": "d4766595525543358b66eb35a204ec95",
       "version_major": 2,
       "version_minor": 0
      },
      "text/plain": [
       "devtest/zsm_Latn.parquet:   0%|          | 0.00/119k [00:00<?, ?B/s]"
      ]
     },
     "metadata": {},
     "output_type": "display_data"
    },
    {
     "data": {
      "application/vnd.jupyter.widget-view+json": {
       "model_id": "a70da158990941eda5708a3b0d7c7180",
       "version_major": 2,
       "version_minor": 0
      },
      "text/plain": [
       "devtest/yue_Hant.parquet:   0%|          | 0.00/115k [00:00<?, ?B/s]"
      ]
     },
     "metadata": {},
     "output_type": "display_data"
    },
    {
     "data": {
      "application/vnd.jupyter.widget-view+json": {
       "model_id": "c11eeec72a274e2ebcc1a1a200bcf286",
       "version_major": 2,
       "version_minor": 0
      },
      "text/plain": [
       "devtest/zul_Latn.parquet:   0%|          | 0.00/126k [00:00<?, ?B/s]"
      ]
     },
     "metadata": {},
     "output_type": "display_data"
    },
    {
     "data": {
      "application/vnd.jupyter.widget-view+json": {
       "model_id": "4af4e41e47cc43fc868021734b929b03",
       "version_major": 2,
       "version_minor": 0
      },
      "text/plain": [
       "Generating dev split:   0%|          | 0/219340 [00:00<?, ? examples/s]"
      ]
     },
     "metadata": {},
     "output_type": "display_data"
    },
    {
     "data": {
      "application/vnd.jupyter.widget-view+json": {
       "model_id": "d27c38293eef49319e4b06c613b50a3f",
       "version_major": 2,
       "version_minor": 0
      },
      "text/plain": [
       "Generating devtest split:   0%|          | 0/216568 [00:00<?, ? examples/s]"
      ]
     },
     "metadata": {},
     "output_type": "display_data"
    },
    {
     "data": {
      "application/vnd.jupyter.widget-view+json": {
       "model_id": "6469b69abce54d1aac9a5e4327cca532",
       "version_major": 2,
       "version_minor": 0
      },
      "text/plain": [
       "Resolving data files:   0%|          | 0/220 [00:00<?, ?it/s]"
      ]
     },
     "metadata": {},
     "output_type": "display_data"
    },
    {
     "data": {
      "application/vnd.jupyter.widget-view+json": {
       "model_id": "e02b2b57603e4a0c87c2906ebf77d6d5",
       "version_major": 2,
       "version_minor": 0
      },
      "text/plain": [
       "Resolving data files:   0%|          | 0/214 [00:00<?, ?it/s]"
      ]
     },
     "metadata": {},
     "output_type": "display_data"
    },
    {
     "data": {
      "application/vnd.jupyter.widget-view+json": {
       "model_id": "6832a665e4f44963bd2b61a51bcf716a",
       "version_major": 2,
       "version_minor": 0
      },
      "text/plain": [
       "Resolving data files:   0%|          | 0/220 [00:00<?, ?it/s]"
      ]
     },
     "metadata": {},
     "output_type": "display_data"
    },
    {
     "data": {
      "application/vnd.jupyter.widget-view+json": {
       "model_id": "42a4f2135b664db784fbe3cf703a2473",
       "version_major": 2,
       "version_minor": 0
      },
      "text/plain": [
       "Resolving data files:   0%|          | 0/214 [00:00<?, ?it/s]"
      ]
     },
     "metadata": {},
     "output_type": "display_data"
    },
    {
     "data": {
      "application/vnd.jupyter.widget-view+json": {
       "model_id": "09f8ac3e2053433b9e980bd6bf4a3586",
       "version_major": 2,
       "version_minor": 0
      },
      "text/plain": [
       "Resolving data files:   0%|          | 0/220 [00:00<?, ?it/s]"
      ]
     },
     "metadata": {},
     "output_type": "display_data"
    },
    {
     "data": {
      "application/vnd.jupyter.widget-view+json": {
       "model_id": "46515ff5e51e4015bdf786cb06ffec4f",
       "version_major": 2,
       "version_minor": 0
      },
      "text/plain": [
       "Resolving data files:   0%|          | 0/214 [00:00<?, ?it/s]"
      ]
     },
     "metadata": {},
     "output_type": "display_data"
    },
    {
     "data": {
      "application/vnd.jupyter.widget-view+json": {
       "model_id": "fab29d8b5ffe4c16934b1213bf12c326",
       "version_major": 2,
       "version_minor": 0
      },
      "text/plain": [
       "Generating dev split:   0%|          | 0/997 [00:00<?, ? examples/s]"
      ]
     },
     "metadata": {},
     "output_type": "display_data"
    },
    {
     "data": {
      "application/vnd.jupyter.widget-view+json": {
       "model_id": "f146431b82bd4331949fb5f0831b5487",
       "version_major": 2,
       "version_minor": 0
      },
      "text/plain": [
       "Generating devtest split:   0%|          | 0/1012 [00:00<?, ? examples/s]"
      ]
     },
     "metadata": {},
     "output_type": "display_data"
    },
    {
     "data": {
      "application/vnd.jupyter.widget-view+json": {
       "model_id": "d482a11bbe514b6cb3a8c861593845be",
       "version_major": 2,
       "version_minor": 0
      },
      "text/plain": [
       "Resolving data files:   0%|          | 0/220 [00:00<?, ?it/s]"
      ]
     },
     "metadata": {},
     "output_type": "display_data"
    },
    {
     "data": {
      "application/vnd.jupyter.widget-view+json": {
       "model_id": "8568bed2a35b43679b8362012a46d10b",
       "version_major": 2,
       "version_minor": 0
      },
      "text/plain": [
       "Resolving data files:   0%|          | 0/214 [00:00<?, ?it/s]"
      ]
     },
     "metadata": {},
     "output_type": "display_data"
    }
   ],
   "source": [
    "from datasets import load_dataset\n",
    "\n",
    "# Load dev and devtests splits for all languages\n",
    "ds_full = load_dataset(\"openlanguagedata/flores_plus\")\n",
    "\n",
    "# Load only the dev split for all languages\n",
    "ds_dev = load_dataset(\"openlanguagedata/flores_plus\", split=\"dev\")\n",
    "\n",
    "# Load dev and devtests splits for French only\n",
    "ds_fra = load_dataset(\"openlanguagedata/flores_plus\", \"fra_Latn\")\n",
    "\n",
    "# Load dev split for French only\n",
    "ds_fra_dev = load_dataset(\"openlanguagedata/flores_plus\", \"fra_Latn\", split=\"dev\")\n"
   ]
  }
 ],
 "metadata": {
  "kernelspec": {
   "display_name": "nlp-old",
   "language": "python",
   "name": "python3"
  },
  "language_info": {
   "codemirror_mode": {
    "name": "ipython",
    "version": 3
   },
   "file_extension": ".py",
   "mimetype": "text/x-python",
   "name": "python",
   "nbconvert_exporter": "python",
   "pygments_lexer": "ipython3",
   "version": "3.10.18"
  }
 },
 "nbformat": 4,
 "nbformat_minor": 5
}
