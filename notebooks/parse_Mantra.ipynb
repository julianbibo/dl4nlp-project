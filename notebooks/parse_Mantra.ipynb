{
 "cells": [
  {
   "cell_type": "code",
   "execution_count": 2,
   "id": "968e616e",
   "metadata": {},
   "outputs": [],
   "source": [
    "import pandas as pd\n",
    "import os\n"
   ]
  },
  {
   "cell_type": "code",
   "execution_count": 16,
   "id": "9e0c67ff",
   "metadata": {},
   "outputs": [
    {
     "name": "stdout",
     "output_type": "stream",
     "text": [
      "EMEA_ec22-cui-best_man\n",
      "['0602_d307.u291.ann', '0008_d42.u387.ann', '0093_d150.u437.ann', '0038_d838.u64.ann', '0601_d426.u28.ann', '0007_d349.u306.ann', '0068_d429.u18.ann', '0070_d265.u55.ann', '0013_d335.u467.ann', '0020_d344.u115.ann', '0050_d6.u169.ann', '0004_d109.u654.ann', '0066_d73.u263.ann', '0083_d405.u81.ann', '0002_d230.u70.ann', '0073_d121.u452.ann', '0015_d348.u52.ann', '0600_d239.u144.ann', '0092_d244.u100.ann', '0011_d335.u293.ann', '0089_d241.u401.ann', '0088_d416.u650.ann', '0064_d457.u482.ann', '0096_d789.u263.ann', '0604_d93.u287.ann', '0051_d379.u33.ann', '0039_d66.u492.ann', '0094_d48.u736.ann', '0036_d408.u72.ann', '0024_d219.u164.ann', '0100_d414.u269.ann', '0030_d101.u51.ann', '0018_d348.u860.ann', '0058_d16.u648.ann', '0041_d227.u408.ann', '0040_d227.u76.ann', '0047_d100.u199.ann', '0085_d31.u250.ann', '0014_d376.u577.ann', '0031_d61.u606.ann', '0071_d265.u318.ann', '0035_d321.u170.ann', '0072_d265.u321.ann', '0027_d660.u3873.ann', '0029_d232.u155.ann', '0054_d351.u34.ann', '0076_d322.u34.ann', '0022_d103.u259.ann', '0097_d773.u106.ann', '0016_d348.u433.ann', '0012_d335.u381.ann', '0032_d179.u38.ann', '0006_d349.u231.ann', '0057_d818.u3.ann', '0005_d264.u678.ann', '0019_d74.u233.ann', '0086_d340.u85.ann', '0081_d270.u620.ann', '0009_d42.u512.ann', '0063_d198.u25.ann', '0603_d156.u258.ann', '0028_d461.u101.ann', '0084_d144.u231.ann', '0034_d354.u684.ann', '0056_d311.u10.ann', '0025_d84.u180.ann', '0021_d81.u431.ann', '0606_d257.u35.ann', '0080_d476.u486.ann', '0069_d824.u32.ann', '0090_d203.u140.ann', '0095_d406.u614.ann', '0055_d214.u116.ann', '0091_d770.u285.ann', '0052_d120.u83.ann', '0003_d230.u383.ann', '0053_d394.u26.ann', '0023_d388.u38.ann', '0605_d164.u108.ann', '0026_d660.u211.ann', '0075_d14.u541.ann', '0065_d73.u262.ann', '0099_d47.u83.ann', '0049_d766.u60.ann', '0087_d287.u252.ann', '0074_d220.u685.ann', '0033_d354.u225.ann', '0044_d18.u28.ann', '0010_d262.u279.ann', '0077_d157.u262.ann', '0017_d348.u457.ann', '0048_d347.u122.ann', '0046_d110.u11.ann', '0042_d272.u473.ann', '0098_d96.u242.ann', '0001_d327.u54.ann', '0061_d469.u447.ann', '0079_d209.u594.ann', '0060_d312.u307.ann', '0078_d129.u306.ann']\n"
     ]
    }
   ],
   "source": [
    "languages = os.listdir(\"../Mantra-GSC\")\n",
    "lang = languages[0]\n",
    "\n",
    "folders = os.listdir(f\"../Mantra-GSC/{lang}\")\n",
    "folder = folders[0]\n",
    "print(folder)\n",
    "\n",
    "files = os.listdir(os.path.join(f\"../Mantra-GSC/{lang}/{folder}\"))\n",
    "\n",
    "# select all files ending with .ann\n",
    "ann_files = [f for f in files if f.endswith(\".ann\")]\n",
    "print(ann_files)\n",
    "ann_file = ann_files[0]"
   ]
  },
  {
   "cell_type": "code",
   "execution_count": null,
   "id": "06a75eea",
   "metadata": {},
   "outputs": [],
   "source": [
    "def save_as_medline(word_dict, folder, lang):\n",
    "    \"\"\"\n",
    "    Saves the word_dict (word -> preferred_name) into the Medline format:\n",
    "    {folder}/en_{lang}/\n",
    "        0_en.txt\n",
    "        0_{lang}.txt\n",
    "        1_en.txt\n",
    "        1_{lang}.txt\n",
    "        ...\n",
    "    \"\"\"\n",
    "\n",
    "    assert lang != \"en\", \"lang must be a non-English language code\"\n",
    "\n",
    "    out_dir = os.path.join(folder, f\"en_{lang}\")\n",
    "    os.makedirs(out_dir, exist_ok=True)\n",
    "\n",
    "    for idx, (word, preferred_name) in enumerate(word_dict.items()):\n",
    "        # English side\n",
    "        with open(os.path.join(out_dir, f\"{idx}_en.txt\"), \"w\", encoding=\"utf-8\") as f_en:\n",
    "            f_en.write(preferred_name)\n",
    "\n",
    "        # Other language side\n",
    "        with open(os.path.join(out_dir, f\"{idx}_{lang}.txt\"), \"w\", encoding=\"utf-8\") as f_lang:\n",
    "            f_lang.write(word)\n"
   ]
  },
  {
   "cell_type": "code",
   "execution_count": 54,
   "id": "0b43a5a5",
   "metadata": {},
   "outputs": [
    {
     "name": "stdout",
     "output_type": "stream",
     "text": [
      "nl\n",
      "de\n",
      "fr\n",
      "es\n"
     ]
    }
   ],
   "source": [
    "import re\n",
    "# map language to abbreviation \n",
    "NAMES = {\n",
    "    \"Spanish\" : \"es\",\n",
    "    \"French\": \"fr\",\n",
    "    \"Portuguese\": \"pt\",\n",
    "    \"German\": \"de\",\n",
    "    \"Italian\": \"it\",\n",
    "    \"Russian\": \"ru\",\n",
    "    \"English\": \"en\",\n",
    "    \"Dutch\": \"nl\",\n",
    "}\n",
    "# open annotated file\n",
    "combined_df = pd.DataFrame()\n",
    "for lang in languages:\n",
    "    word_dict = {}\n",
    "    folders = os.listdir(f\"../Mantra-GSC/{lang}\")\n",
    "    if lang == \"English\":\n",
    "        continue\n",
    "    for folder in folders:\n",
    "        files = os.listdir(os.path.join(f\"../Mantra-GSC/{lang}/{folder}\"))\n",
    "\n",
    "        # select all files ending with .ann\n",
    "        ann_files = [f for f in files if f.endswith(\".ann\")]\n",
    "        for ann_file in ann_files:\n",
    "            with open(os.path.join(f\"../Mantra-GSC/{lang}/{folder}/{ann_file}\"), \"r\") as f:\n",
    "                lines = f.readlines()\n",
    "\n",
    "            pattern = re.compile(r'\"([^\"]+)\"')  # match content inside quotes\n",
    "\n",
    "            with open(os.path.join(f\"../Mantra-GSC/{lang}/{folder}/{ann_file}\"), \"r\") as f:\n",
    "                for line1, line2 in zip(f, f):  # read two lines at a time\n",
    "                    word = line1.strip().split(\"\\t\")[-1]\n",
    "                    matches = pattern.findall(line2)\n",
    "                    if len(matches) > 1:\n",
    "                        word_dict[word] = matches[1]  # second quoted string\n",
    "    # convert lang to abbreviation\n",
    "    lang = NAMES[lang]\n",
    "    print(lang)\n",
    "    save_as_medline(word_dict, folder=\"../data/mantra_converted\", lang=lang)"
   ]
  },
  {
   "cell_type": "code",
   "execution_count": null,
   "id": "1675a836",
   "metadata": {},
   "outputs": [],
   "source": [
    "\n",
    "\n"
   ]
  },
  {
   "cell_type": "code",
   "execution_count": null,
   "id": "20c65b90",
   "metadata": {},
   "outputs": [],
   "source": []
  }
 ],
 "metadata": {
  "kernelspec": {
   "display_name": "two-tower-confounding-2",
   "language": "python",
   "name": "python3"
  },
  "language_info": {
   "codemirror_mode": {
    "name": "ipython",
    "version": 3
   },
   "file_extension": ".py",
   "mimetype": "text/x-python",
   "name": "python",
   "nbconvert_exporter": "python",
   "pygments_lexer": "ipython3",
   "version": "3.10.18"
  }
 },
 "nbformat": 4,
 "nbformat_minor": 5
}
