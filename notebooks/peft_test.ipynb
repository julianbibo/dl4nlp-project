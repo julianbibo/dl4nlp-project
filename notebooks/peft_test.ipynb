{
 "cells": [
  {
   "cell_type": "code",
   "execution_count": 44,
   "id": "1ca2203b",
   "metadata": {},
   "outputs": [],
   "source": [
    "from transformers import AutoModelForCausalLM, AutoTokenizer, TrainingArguments, Trainer\n",
    "from peft import LoraConfig, TaskType, get_peft_model\n",
    "from typing import Optional, List"
   ]
  },
  {
   "cell_type": "code",
   "execution_count": 45,
   "id": "35f2fb40",
   "metadata": {},
   "outputs": [],
   "source": [
    "class NMTModel:\n",
    "    def __init__(self, model_dir: str, device, role: Optional[str] = None):\n",
    "        \"\"\"\n",
    "        Loads neural machine translation model.\n",
    "\n",
    "        # Args\n",
    "        * `model_dir`: Directory that includes the model, config, and tokenizer.\n",
    "        * `role`: Description of the system's role, if `None` then the default role is chosen.\n",
    "        \"\"\"\n",
    "\n",
    "        self.model = AutoModelForCausalLM.from_pretrained(\n",
    "            model_dir,\n",
    "            torch_dtype=\"auto\",\n",
    "            device_map=device,\n",
    "        ).eval()\n",
    "\n",
    "        self.tokenizer = AutoTokenizer.from_pretrained(model_dir)\n",
    "\n",
    "        if role is None:\n",
    "            self.role = \"You are a helpful translation assistant.\"\n",
    "        else:\n",
    "            self.role = role\n",
    "\n",
    "    def prompt(self, prompt: str) -> str:\n",
    "        return self.prompt_batch([prompt])\n",
    "\n",
    "    def prompt_batch(self, prompts: List[str]) -> List[str]:\n",
    "        \"\"\"\n",
    "        Runs inference.\n",
    "        \"\"\"\n",
    "\n",
    "        text_batch = [\n",
    "            self.tokenizer.apply_chat_template(\n",
    "                [{\"role\": \"system\", \"content\": self.role}, {\"role\": \"user\", \"content\": prompt}],\n",
    "                tokenize=False,\n",
    "                add_generation_prompt=True\n",
    "            ) for prompt in prompts\n",
    "        ]\n",
    "        model_inputs = self.tokenizer(text_batch, return_tensors=\"pt\", padding=True).to(self.model.device)\n",
    "\n",
    "        generated_ids = self.model.generate(\n",
    "            model_inputs.input_ids,\n",
    "            max_new_tokens=512\n",
    "        )\n",
    "        generated_ids = [\n",
    "            output_ids[len(input_ids):] for input_ids, output_ids in zip(model_inputs.input_ids, generated_ids)\n",
    "        ]\n",
    "\n",
    "        return self.tokenizer.batch_decode(generated_ids, skip_special_tokens=True)\n",
    "    "
   ]
  },
  {
   "cell_type": "markdown",
   "id": "37a59bd0",
   "metadata": {},
   "source": [
    "### Load model"
   ]
  },
  {
   "cell_type": "code",
   "execution_count": 46,
   "id": "b0022f31",
   "metadata": {},
   "outputs": [],
   "source": [
    "# NOTE: replace with accurate model directory\n",
    "model_dir = \"../data/qwen0-5b\"\n",
    "out_dir = \"../data/out\"\n",
    "\n",
    "# Load model\n",
    "# TODO: preferably not newer than 2023\n",
    "model = NMTModel(model_dir, \"cpu\")"
   ]
  },
  {
   "cell_type": "code",
   "execution_count": 47,
   "id": "c5088553",
   "metadata": {},
   "outputs": [
    {
     "data": {
      "text/plain": [
       "['あなたは何か食べたいですか？', 'Wollt ihr etwas trinken?']"
      ]
     },
     "execution_count": 47,
     "metadata": {},
     "output_type": "execute_result"
    }
   ],
   "source": [
    "example_prompts = [\n",
    "    \"Translate the following sentence to Japanese: Would you like something to eat?\",\n",
    "    \"Translate the following sentence to German: Would you like something to eat?\",\n",
    "]\n",
    "\n",
    "model.prompt_batch(example_prompts)"
   ]
  },
  {
   "cell_type": "markdown",
   "id": "e794b40b",
   "metadata": {},
   "source": [
    "### PEFT"
   ]
  },
  {
   "cell_type": "code",
   "execution_count": 48,
   "id": "a3f40e05",
   "metadata": {},
   "outputs": [
    {
     "name": "stdout",
     "output_type": "stream",
     "text": [
      "trainable params: 540,672 || all params: 494,573,440 || trainable%: 0.1093\n"
     ]
    }
   ],
   "source": [
    "# load finetuneable model\n",
    "# TODO: find good parameters\n",
    "peft_config = LoraConfig(task_type=TaskType.CAUSAL_LM, inference_mode=False, r=8, lora_alpha=32, lora_dropout=0.1)\n",
    "model_peft = get_peft_model(model.model, peft_config)\n",
    "\n",
    "model_peft.print_trainable_parameters()"
   ]
  },
  {
   "cell_type": "code",
   "execution_count": null,
   "id": "8e44e634",
   "metadata": {},
   "outputs": [],
   "source": [
    "# TODO: find good parameters\n",
    "training_args = TrainingArguments(\n",
    "    output_dir=out_dir,\n",
    "    learning_rate=1e-3,\n",
    "    per_device_train_batch_size=32,\n",
    "    per_device_eval_batch_size=32,\n",
    "    num_train_epochs=2,\n",
    "    weight_decay=0.01,\n",
    "    eval_strategy=\"epoch\",\n",
    "    save_strategy=\"epoch\",\n",
    "    load_best_model_at_end=True,\n",
    ")\n",
    "\n",
    "# TODO: find good parameters\n",
    "trainer = Trainer(\n",
    "    model=model,\n",
    "    args=training_args,\n",
    "    train_dataset=...,\n",
    "    eval_dataset=...,\n",
    "    processing_class=model.tokenizer,\n",
    "    data_collator=...,\n",
    "    compute_metrics=...,\n",
    ")\n",
    "\n",
    "trainer.train()"
   ]
  }
 ],
 "metadata": {
  "kernelspec": {
   "display_name": "dl4nlp",
   "language": "python",
   "name": "python3"
  },
  "language_info": {
   "codemirror_mode": {
    "name": "ipython",
    "version": 3
   },
   "file_extension": ".py",
   "mimetype": "text/x-python",
   "name": "python",
   "nbconvert_exporter": "python",
   "pygments_lexer": "ipython3",
   "version": "3.13.7"
  }
 },
 "nbformat": 4,
 "nbformat_minor": 5
}
